{
 "cells": [
  {
   "cell_type": "code",
   "execution_count": 2,
   "metadata": {},
   "outputs": [
    {
     "data": {
      "text/plain": [
       "'1234'"
      ]
     },
     "execution_count": 2,
     "metadata": {},
     "output_type": "execute_result"
    }
   ],
   "source": [
    "# input ()\n",
    "# The input() function allows user input.\n",
    "# Python input() function is used to get input from the user. It prompts for the user input and reads a line. \n",
    "#After reading data, it converts it into a string and returns that. It throws an error EOFError if EOF is read.\n",
    "# syntax:- input(prompt)\n",
    "# prompt:- It is a string message which prompts for the user input.\n",
    "# "
   ]
  },
  {
   "cell_type": "code",
   "execution_count": 12,
   "metadata": {},
   "outputs": [
    {
     "name": "stdout",
     "output_type": "stream",
     "text": [
      "1234\n",
      "<class 'str'>\n"
     ]
    }
   ],
   "source": [
    "# Ask for the user's name and print it:\n",
    "# String Input\n",
    "q = input(\"Enter 4 digit ATM pin.\")\n",
    "print(q)\n",
    "print(type(q))\n"
   ]
  },
  {
   "cell_type": "code",
   "execution_count": 16,
   "metadata": {},
   "outputs": [
    {
     "name": "stdout",
     "output_type": "stream",
     "text": [
      "12 <class 'str'>\n",
      "13 <class 'str'>\n",
      "1213\n"
     ]
    }
   ],
   "source": [
    "# String Input\n",
    "a = input(\"Enter your 1st no.\")\n",
    "b = input(\"Enter your 2nd no.\")\n",
    "print(a,type(a))\n",
    "print(b,type(b))\n",
    "print(a+b)"
   ]
  },
  {
   "cell_type": "code",
   "execution_count": 15,
   "metadata": {},
   "outputs": [
    {
     "name": "stdout",
     "output_type": "stream",
     "text": [
      "10 <class 'int'>\n",
      "20 <class 'int'>\n",
      "30\n"
     ]
    }
   ],
   "source": [
    "# Integer Input\n",
    "# The integer input can be taken by just type casting the input received into input().\n",
    "# Thus, for taking integer input, we use int(input()) \n",
    "# Only numerical values can be entered by the user, else it throws an error.\n",
    "\n",
    "x = int(input(\"Enter the 4 digit no.\"))\n",
    "y = int(input(\"enter the 4 digit no.\"))\n",
    "print(x,type(x))\n",
    "print(y,type(y))\n",
    "print(x+y) "
   ]
  },
  {
   "cell_type": "code",
   "execution_count": null,
   "metadata": {},
   "outputs": [],
   "source": []
  }
 ],
 "metadata": {
  "kernelspec": {
   "display_name": "Python 3",
   "language": "python",
   "name": "python3"
  },
  "language_info": {
   "codemirror_mode": {
    "name": "ipython",
    "version": 3
   },
   "file_extension": ".py",
   "mimetype": "text/x-python",
   "name": "python",
   "nbconvert_exporter": "python",
   "pygments_lexer": "ipython3",
   "version": "3.9.7"
  },
  "orig_nbformat": 4
 },
 "nbformat": 4,
 "nbformat_minor": 2
}
