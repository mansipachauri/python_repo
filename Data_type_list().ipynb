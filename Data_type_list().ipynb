{
 "cells": [
  {
   "cell_type": "code",
   "execution_count": 1,
   "metadata": {},
   "outputs": [],
   "source": [
    "# collection : list , tuple ,set , dictionary , frozenset . \n",
    "# list constructor is list()\n",
    "# list literal is []\n",
    "# list is a set of squence of element\n",
    "# list is mutable \n",
    "# list support indexing \n",
    "# list support  slicing \n",
    "# list support concatination \n",
    "# list has various methods\n",
    "   "
   ]
  },
  {
   "cell_type": "code",
   "execution_count": 2,
   "metadata": {},
   "outputs": [
    {
     "name": "stdout",
     "output_type": "stream",
     "text": [
      "[10, 11.1, 'Mansi']\n"
     ]
    }
   ],
   "source": [
    "a = [10, 11.1, \"Mansi\"]\n",
    "print(a)"
   ]
  },
  {
   "cell_type": "code",
   "execution_count": 3,
   "metadata": {},
   "outputs": [
    {
     "name": "stdout",
     "output_type": "stream",
     "text": [
      "[] <class 'list'>\n"
     ]
    }
   ],
   "source": [
    "b = list()        # list literal\n",
    "print(b, type(b))"
   ]
  },
  {
   "cell_type": "code",
   "execution_count": 4,
   "metadata": {},
   "outputs": [
    {
     "name": "stdout",
     "output_type": "stream",
     "text": [
      "10.3\n",
      "10\n",
      "10.4\n",
      "10.1\n",
      "10.5\n",
      "10.3\n",
      "10.1\n"
     ]
    }
   ],
   "source": [
    "# list indexing \n",
    "# The index() method returns the position at the first occurrence of the specified value. \n",
    "# elmnt = Required. Any type (string, number, list, etc.). The element to search for\n",
    "# What is the position of the value 10 is 0:\n",
    "#  syntax = list.index(elmnt)\n",
    "\n",
    "c = [10,10.1,10.2,10.3,10.4,10.5]\n",
    "print(c[3])\n",
    "print(c[0])\n",
    "print(c[4])\n",
    "print(c[1])\n",
    "print(c[-1])\n",
    "print(c[-3])\n",
    "print(c[-5])\n",
    "\n",
    "\n",
    "\n"
   ]
  },
  {
   "cell_type": "code",
   "execution_count": 5,
   "metadata": {},
   "outputs": [
    {
     "name": "stdout",
     "output_type": "stream",
     "text": [
      "[10, 10.2, 10.4]\n",
      "[10, 10.1, 10.2, 10.3, 10.4, 10.5]\n",
      "[10, 10.1, 10.2, 10.3, 10.4, 10.5]\n",
      "[10.1, 10.2]\n",
      "[10.5, 10.4, 10.3]\n",
      "[10.5, 10.3, 10.1]\n",
      "[10.5, 10.3, 10.1]\n",
      "[10.5, 10.4, 10.3, 10.2, 10.1, 10]\n",
      "[10, 10.1, 10.2, 10.3, 10.4, 10.5]\n",
      "[10, 10.1, 10.2, 10.3, 10.4, 10.5]\n"
     ]
    }
   ],
   "source": [
    "# list slicing \n",
    "\n",
    "c = [10, 10.1, 10.2, 10.3, 10.4, 10.5]\n",
    "print(c[::2])\n",
    "print(c[0::1])\n",
    "print(c[0:876:1])\n",
    "print(c[1:3])\n",
    "print(c[-1:-4:-1])\n",
    "print(c[-1::-2])\n",
    "print(c[::-2])\n",
    "print(c[::-1])\n",
    "print(c[::])\n",
    "print(c[:])"
   ]
  },
  {
   "cell_type": "code",
   "execution_count": 6,
   "metadata": {},
   "outputs": [
    {
     "name": "stdout",
     "output_type": "stream",
     "text": [
      "[10, 10.1, 10.2, 10.3, 10.4, 10.5, 1, 2, 3, 4, 5]\n"
     ]
    }
   ],
   "source": [
    "# list support concatination\n",
    "\n",
    "d = [1,2,3,4,5]\n",
    "print(c+d)"
   ]
  },
  {
   "cell_type": "code",
   "execution_count": 7,
   "metadata": {},
   "outputs": [
    {
     "name": "stdout",
     "output_type": "stream",
     "text": [
      "['Mansi', 'Pachauri'] <class 'list'> 1503842151488\n"
     ]
    }
   ],
   "source": [
    "e = [\"Mansi\", \"Pachauri\"]\n",
    "print(e,type(e),id(e))\n"
   ]
  },
  {
   "cell_type": "code",
   "execution_count": 8,
   "metadata": {},
   "outputs": [
    {
     "name": "stdout",
     "output_type": "stream",
     "text": [
      "['Mansi', 'Pachauri', 16]\n"
     ]
    },
    {
     "data": {
      "text/plain": [
       "(None, 1503842151488)"
      ]
     },
     "execution_count": 8,
     "metadata": {},
     "output_type": "execute_result"
    }
   ],
   "source": [
    "# append method\n",
    "# Adds an element at the end of the list\n",
    "# The append() method appends an element to the end of the list. \n",
    "# Syntax :-   list.append(elmnt)\n",
    "\n",
    "e.append(16)\n",
    "print(e),id(e)\n",
    "\n",
    " \n"
   ]
  },
  {
   "cell_type": "code",
   "execution_count": 9,
   "metadata": {},
   "outputs": [
    {
     "name": "stdout",
     "output_type": "stream",
     "text": [
      "[]\n"
     ]
    },
    {
     "data": {
      "text/plain": [
       "1503842151488"
      ]
     },
     "execution_count": 9,
     "metadata": {},
     "output_type": "execute_result"
    }
   ],
   "source": [
    "# Clear() \n",
    "# Removes all the elements from the list.\n",
    "# The clear() method removes all the elements from a list.\n",
    "# Syntax :- list.clear()\n",
    "e.clear()\n",
    "print(e)\n",
    "id(e)\n",
    "\n",
    "\n"
   ]
  },
  {
   "cell_type": "code",
   "execution_count": 19,
   "metadata": {},
   "outputs": [],
   "source": [
    "a=[]\n"
   ]
  },
  {
   "cell_type": "code",
   "execution_count": 23,
   "metadata": {},
   "outputs": [
    {
     "name": "stdout",
     "output_type": "stream",
     "text": [
      "[10]\n"
     ]
    }
   ],
   "source": [
    "a=[]\n",
    "\n",
    "a.append(10)\n",
    "print(a)"
   ]
  },
  {
   "cell_type": "code",
   "execution_count": 22,
   "metadata": {},
   "outputs": [
    {
     "name": "stdout",
     "output_type": "stream",
     "text": [
      "[[1, 2, 3, 4, 5], 10, [1, 2, 3, 4, 5], 10, [1, 2, 3, 4, 5], 10, [1, 2, 3, 4, 5]]\n",
      "[[1, 2, 3, 4, 5], 10, [1, 2, 3, 4, 5], 10, [1, 2, 3, 4, 5], 10, [1, 2, 3, 4, 5], 10]\n"
     ]
    },
    {
     "data": {
      "text/plain": [
       "[1, 2, 3, 4, 5]"
      ]
     },
     "execution_count": 22,
     "metadata": {},
     "output_type": "execute_result"
    }
   ],
   "source": [
    "e.append([1,2,3,4,5])\n",
    "print(e)\n",
    "e.append(10)\n",
    "print(e)\n",
    "e[0]                           # indexing "
   ]
  },
  {
   "cell_type": "code",
   "execution_count": 26,
   "metadata": {},
   "outputs": [
    {
     "name": "stdout",
     "output_type": "stream",
     "text": [
      "['a', 'b', 'c', 'd', 'e'] 1503819874816\n",
      "['a', 'b', 'c', 'd', 'e'] 1503818452032\n"
     ]
    }
   ],
   "source": [
    "# copy()\n",
    "# Returns a copy of the list\n",
    "# deep copy, their is difference ///////////////////////\n",
    "# shallow copy, in this copy differnt ids  no. of same elemnt.\n",
    "#   \n",
    "# The copy() method returns a copy of the specified list.\n",
    "# Syntax :- list.copy()\n",
    "g = [\"a\",\"b\",\"c\",\"d\",\"e\"]\n",
    "print(g,id(g))\n",
    "x = g.copy()\n",
    "print(x, id(x))\n"
   ]
  },
  {
   "cell_type": "code",
   "execution_count": 47,
   "metadata": {},
   "outputs": [
    {
     "name": "stdout",
     "output_type": "stream",
     "text": [
      "1\n",
      "2\n"
     ]
    }
   ],
   "source": [
    "# count() \n",
    "#  syntax :- list.count(value)\n",
    "# Return the number of times the value \"cherry\" appears in the fruits list:\n",
    "fruits = ['apple', 'banana', 'cherry' , 1,2,4,7,1]\n",
    "print(fruits.count(\"cherry\"))\n",
    "print(fruits.count(1))\n",
    "\n"
   ]
  },
  {
   "cell_type": "code",
   "execution_count": 51,
   "metadata": {},
   "outputs": [
    {
     "name": "stdout",
     "output_type": "stream",
     "text": [
      "['apple', 'banana', 'cherry', 1, 4, 5, 9]\n",
      "['apple', 'banana', 'cherry', 'Ford', 'BMW', 'Volvo']\n"
     ]
    }
   ],
   "source": [
    "# extent()\n",
    "# Add the elements of a list (or any iterable), to the end of the current list\n",
    "# in extend() add an element as a one on one element .\n",
    "# iterable\t= Required. Any iterable (list, set, tuple, etc.)\n",
    "#  syntax :- list.extend(iterable)\n",
    "fruits = ['apple', 'banana', 'cherry']\n",
    "points = (1, 4, 5, 9)\n",
    "fruits.extend(points)                           # Add a tuple to the fruits list:\n",
    "print(fruits)\n",
    "\n",
    "fruits = ['apple', 'banana', 'cherry']\n",
    "cars = ['Ford', 'BMW', 'Volvo']                 #  Add the elements of cars to the fruits list:\n",
    "fruits.extend(cars)\n",
    "print(fruits)\n"
   ]
  },
  {
   "cell_type": "code",
   "execution_count": 58,
   "metadata": {},
   "outputs": [
    {
     "name": "stdout",
     "output_type": "stream",
     "text": [
      "['orange', 'apple', 'banana', 'cherry']\n",
      "['orange', 'apple', 'banana', '2', 'cherry']\n"
     ]
    }
   ],
   "source": [
    "# insert()\n",
    "# Adds an element at the specified position\n",
    "# The insert() method inserts the specified value at the specified position.\n",
    "# syntax :-  list.insert(pos, elmnt) \n",
    "# position(pos) = Required. A number specifying in which position to insert the value\n",
    "# elmnt = Required. An element of any type (string, number, object etc.)\n",
    "\n",
    "fruits = ['apple', 'banana', 'cherry']\n",
    "fruits.insert(0, \"orange\")                                # Insert the value \"orange\" as the second element of the fruit list:\n",
    "print(fruits)\n",
    "\n",
    "fruits.insert(3, \"2\")\n",
    "print(fruits)\n",
    "\n",
    "\n",
    "\n"
   ]
  },
  {
   "cell_type": "code",
   "execution_count": 64,
   "metadata": {},
   "outputs": [
    {
     "name": "stdout",
     "output_type": "stream",
     "text": [
      "banana\n",
      "['apple', 'cherry']\n"
     ]
    },
    {
     "data": {
      "text/plain": [
       "'banana'"
      ]
     },
     "execution_count": 64,
     "metadata": {},
     "output_type": "execute_result"
    }
   ],
   "source": [
    "# pop()\n",
    "# Removes the element at the specified position\n",
    "# if you didn't mention position so, they delete last elmnt.\n",
    "# The pop() method removes the element at the specified position.\n",
    "# Syntax :- list.pop(pos)\n",
    "# pos =\tOptional. A number specifying the position of the element you want to remove, default value is -1, which returns the last item\n",
    "fruits = ['apple', 'banana', 'cherry']\n",
    "print(fruits.pop(1))                   # Remove the second element of the fruit list:\n",
    "print(fruits)\n",
    "\n",
    "fruits = ['apple', 'banana', 'cherry']\n",
    "fruits.pop(1)                             # Return the removed element:\n",
    "\n",
    "\n",
    "\n"
   ]
  },
  {
   "cell_type": "code",
   "execution_count": 66,
   "metadata": {},
   "outputs": [
    {
     "name": "stdout",
     "output_type": "stream",
     "text": [
      "['apple', 'cherry']\n"
     ]
    }
   ],
   "source": [
    "# remove()\n",
    "# Removes the item with the specified value\n",
    "# The remove() method removes the first occurrence of the element with the specified value.\n",
    "# elmnt = Required. Any type (string, number, list etc.) The element you want to remove\n",
    "# Syntax :- list.remove(elmnt)\n",
    "fruits = ['apple', 'banana', 'cherry']                         # Remove the \"banana\" element of the fruit list:\n",
    "fruits.remove(\"banana\")\n",
    "print(fruits)\n",
    " \n"
   ]
  },
  {
   "cell_type": "code",
   "execution_count": 68,
   "metadata": {},
   "outputs": [
    {
     "name": "stdout",
     "output_type": "stream",
     "text": [
      "['cherry', 'banana', 'apple']\n"
     ]
    }
   ],
   "source": [
    "# reverse ()\n",
    "# Reverses the order of the list\n",
    "# The reverse() method reverses the sorting order of the elements.\n",
    "# Syntax :- list.reverse()\n",
    "\n",
    "fruits = ['apple', 'banana', 'cherry']\n",
    "fruits.reverse()                                               # Reverse the order of the fruit list:\n",
    "print(fruits)\n"
   ]
  },
  {
   "cell_type": "code",
   "execution_count": 71,
   "metadata": {},
   "outputs": [
    {
     "name": "stdout",
     "output_type": "stream",
     "text": [
      "['BMW', 'Ford', 'Volvo']\n",
      "['Volvo', 'Ford', 'BMW']\n"
     ]
    }
   ],
   "source": [
    "# sort()\n",
    "# Sorts the list   \n",
    "# The sort() method sorts the list ascending by default.\n",
    "# You can also make a function to decide the sorting criteria(s).   \n",
    "# syntax:- list.sort(reverse=True|False, key=myFunc)   \n",
    "# reverse =\tOptional. reverse=True will sort the list descending. Default is reverse=False\n",
    "# key\t=   Optional. A function to specify the sorting criteria(s)\n",
    "    \n",
    "cars = ['Ford', 'BMW', 'Volvo']\n",
    "cars.sort()                                # Sort the list alphabetically:\n",
    "print(cars)\n",
    "\n",
    "cars = ['Ford', 'BMW', 'Volvo']\n",
    "cars.sort(reverse=True)                    # Sort the list descending:\n",
    "print(cars)\n",
    "\n"
   ]
  },
  {
   "cell_type": "code",
   "execution_count": null,
   "metadata": {},
   "outputs": [],
   "source": []
  },
  {
   "cell_type": "code",
   "execution_count": null,
   "metadata": {},
   "outputs": [],
   "source": []
  }
 ],
 "metadata": {
  "kernelspec": {
   "display_name": "Python 3",
   "language": "python",
   "name": "python3"
  },
  "language_info": {
   "codemirror_mode": {
    "name": "ipython",
    "version": 3
   },
   "file_extension": ".py",
   "mimetype": "text/x-python",
   "name": "python",
   "nbconvert_exporter": "python",
   "pygments_lexer": "ipython3",
   "version": "3.9.7"
  },
  "orig_nbformat": 4
 },
 "nbformat": 4,
 "nbformat_minor": 2
}
