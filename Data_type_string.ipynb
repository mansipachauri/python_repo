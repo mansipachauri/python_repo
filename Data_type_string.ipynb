{
 "cells": [
  {
   "cell_type": "code",
   "execution_count": 1,
   "metadata": {},
   "outputs": [],
   "source": [
    "# string\n",
    "# strings constructoris str()\n",
    "# string literals is '' , \"\" , '''''' , \"\"\"\"\"\" . \n",
    "# strings is a set of sequence of character \n",
    "# string support slicing \n",
    "# string support indexing  \n",
    "# string support concatination \n",
    "# string is immutable datatype (which we cannot change after created)\n",
    "   "
   ]
  },
  {
   "cell_type": "code",
   "execution_count": 2,
   "metadata": {},
   "outputs": [
    {
     "name": "stdout",
     "output_type": "stream",
     "text": [
      "\n",
      "<class 'str'>\n"
     ]
    }
   ],
   "source": [
    "a=str()             # strings constructoris str()\n",
    "print(a)\n",
    "print(type(a))"
   ]
  },
  {
   "cell_type": "code",
   "execution_count": 3,
   "metadata": {},
   "outputs": [
    {
     "data": {
      "text/plain": [
       "''"
      ]
     },
     "execution_count": 3,
     "metadata": {},
     "output_type": "execute_result"
    }
   ],
   "source": [
    "a"
   ]
  },
  {
   "cell_type": "code",
   "execution_count": 4,
   "metadata": {},
   "outputs": [
    {
     "name": "stdout",
     "output_type": "stream",
     "text": [
      "\n",
      " <class 'str'> 2239313954416\n"
     ]
    }
   ],
   "source": [
    "b=\"\"\n",
    "print(b)\n",
    "print(b,type(b),id (b))"
   ]
  },
  {
   "cell_type": "code",
   "execution_count": 5,
   "metadata": {},
   "outputs": [
    {
     "name": "stdout",
     "output_type": "stream",
     "text": [
      "2239313954416\n"
     ]
    }
   ],
   "source": [
    "c=b\n",
    "print(id(c))"
   ]
  },
  {
   "cell_type": "code",
   "execution_count": 6,
   "metadata": {},
   "outputs": [
    {
     "name": "stdout",
     "output_type": "stream",
     "text": [
      "mansi\n"
     ]
    }
   ],
   "source": [
    "# strings is a set of sequence of character\n",
    "\n",
    "a= \"mansi\"  \n",
    "print(a)\n",
    "\n"
   ]
  },
  {
   "cell_type": "code",
   "execution_count": 7,
   "metadata": {},
   "outputs": [
    {
     "name": "stdout",
     "output_type": "stream",
     "text": [
      "m\n",
      "a\n",
      "n\n",
      "s\n",
      "i\n"
     ]
    }
   ],
   "source": [
    "# We can access a single character in a string through indexing it. For this,\n",
    "\n",
    "# we use [] square brackets and an index .\n",
    "\n",
    "# the position of that character in the string. Indexing starts at 0, not 1. \n",
    "\n",
    "# 0  1  2  3  4 (position indexing), If we perform indexing left to right in the above python string\n",
    "# m  a  n  s  i \n",
    "#-5 =4 -3 -2 -1  (negetive indexing), Negative indexing happens right to left in the python string. \n",
    "\n",
    "# Positive Indexing \n",
    "print(a[0])\n",
    "print(a[1])\n",
    "print(a[2])\n",
    "print(a[3])\n",
    "print(a[4])\n",
    "\n"
   ]
  },
  {
   "cell_type": "code",
   "execution_count": 8,
   "metadata": {},
   "outputs": [
    {
     "name": "stdout",
     "output_type": "stream",
     "text": [
      "i\n",
      "s\n",
      "n\n",
      "a\n",
      "m\n"
     ]
    }
   ],
   "source": [
    "# Negative Indexing\n",
    "print(a[-1])\n",
    "print(a[-2])\n",
    "print(a[-3])\n",
    "print(a[-4])\n",
    "print(a[-5])\n",
    "\n"
   ]
  },
  {
   "cell_type": "code",
   "execution_count": 9,
   "metadata": {},
   "outputs": [
    {
     "name": "stdout",
     "output_type": "stream",
     "text": [
      "this is\n",
      "mansi \n",
      "pachauri\n",
      "this \n",
      "this is mansi pachauri\n",
      "hsi as ahui\n",
      "his is mansi pachauri \n",
      "this is mansi pachauri \n",
      "this is mansi pachauri \n",
      "this is mansi pachauri \n"
     ]
    }
   ],
   "source": [
    "# string support slicing \n",
    "# We can get parts of strings at one time by slicing it with the slicing operator [:].\n",
    "e=\"this is mansi pachauri \"\n",
    "print(e[0:7])\n",
    "\n",
    "print(e[8:14])\n",
    "print(e[14:22])\n",
    "print(e[0:5:1])         # start_point(0):end_point(last_indexing+1):step (1)            \n",
    "print(e[0:22:1])\n",
    "print(e[1:22:2])\n",
    "print(e[1::1])\n",
    "print(e[::1])\n",
    "print(e[::])\n",
    "print(e[:])\n",
    "\n",
    " \n",
    " \n",
    " \n",
    " \n",
    " "
   ]
  },
  {
   "cell_type": "code",
   "execution_count": 10,
   "metadata": {},
   "outputs": [
    {
     "name": "stdout",
     "output_type": "stream",
     "text": [
      "02468\n",
      "13579\n",
      "02468\n",
      "13579\n"
     ]
    }
   ],
   "source": [
    "f= \"0123456789\"\n",
    "print(f[0:9:2])   # even numbers\n",
    "print(f[1:10:2])   # odd numbers\n",
    "print(f[0::2])    # even numbers\n",
    "print(f[1::2])    # odd numbers\n"
   ]
  },
  {
   "cell_type": "code",
   "execution_count": 11,
   "metadata": {},
   "outputs": [
    {
     "name": "stdout",
     "output_type": "stream",
     "text": [
      "s\n"
     ]
    }
   ],
   "source": [
    "#  NEGATIVE SLICING\n",
    "\n",
    "g=\"mansi\"\n",
    "\n",
    "print(g[-2])\n"
   ]
  },
  {
   "cell_type": "code",
   "execution_count": 12,
   "metadata": {},
   "outputs": [
    {
     "name": "stdout",
     "output_type": "stream",
     "text": [
      "mans\n",
      "mansi\n",
      "mansi\n",
      "isnam\n"
     ]
    }
   ],
   "source": [
    "print(g[-5:-1:1])\n",
    "print(g[-5::1])\n",
    "print(g[-5:9876:1])\n",
    "print(g[-1:-6:-1])     # if we want ti print back name"
   ]
  },
  {
   "cell_type": "code",
   "execution_count": 13,
   "metadata": {},
   "outputs": [
    {
     "name": "stdout",
     "output_type": "stream",
     "text": [
      "MansiPachauri\n"
     ]
    }
   ],
   "source": [
    "# concatenation operator  ('+')\n",
    "# Computer programmers commonly use concatenation for joining end-to-end character strings\n",
    "# (\"Hello\" + \"World\") will fetch you the output as \"HelloWorld\"\n",
    "\n",
    "Name=\"Mansi\" \n",
    "Last_name=\"Pachauri\"\n",
    "print(Name+Last_name)"
   ]
  },
  {
   "cell_type": "code",
   "execution_count": 14,
   "metadata": {},
   "outputs": [
    {
     "name": "stdout",
     "output_type": "stream",
     "text": [
      "hello World\n"
     ]
    }
   ],
   "source": [
    "a = \"hello\"\n",
    "b = \"World\"\n",
    "c = a + \" \" + b\n",
    "print(c)\n"
   ]
  },
  {
   "cell_type": "code",
   "execution_count": 15,
   "metadata": {},
   "outputs": [
    {
     "data": {
      "text/plain": [
       "'!@#$%^&*()@#$%^&*()             '"
      ]
     },
     "execution_count": 15,
     "metadata": {},
     "output_type": "execute_result"
    }
   ],
   "source": [
    "\"!@#$%^&*()@#$%^&*()\"+\"             \""
   ]
  },
  {
   "cell_type": "code",
   "execution_count": 16,
   "metadata": {},
   "outputs": [
    {
     "name": "stdout",
     "output_type": "stream",
     "text": [
      "hello\n"
     ]
    }
   ],
   "source": [
    "print(a)"
   ]
  },
  {
   "cell_type": "code",
   "execution_count": 17,
   "metadata": {},
   "outputs": [
    {
     "data": {
      "text/plain": [
       "2239392096112"
      ]
     },
     "execution_count": 17,
     "metadata": {},
     "output_type": "execute_result"
    }
   ],
   "source": [
    "id(a)"
   ]
  },
  {
   "cell_type": "code",
   "execution_count": 18,
   "metadata": {},
   "outputs": [
    {
     "name": "stdout",
     "output_type": "stream",
     "text": [
      "Python is fun!\n",
      "36 is my age.\n",
      "2239398917616\n"
     ]
    },
    {
     "data": {
      "text/plain": [
       "'HELLO'"
      ]
     },
     "execution_count": 18,
     "metadata": {},
     "output_type": "execute_result"
    }
   ],
   "source": [
    "# capitalize()\n",
    "# Converts the first character to upper case\n",
    "# The capitalize() method returns a string where the first character is upper case, and the rest is lower case.\n",
    "# syntax:- string.capitalize()\n",
    "txt = \"python is FUN!\"\n",
    "x = txt.capitalize()        # The first character is converted to upper case, and the rest are converted to lower case:\n",
    "print (x)\n",
    "\n",
    "txt = \"36 is my age.\"\n",
    "x = txt.capitalize()       # See what happens if the first character is a number:\n",
    "print (x)\n",
    "\n",
    "a.capitalize()\n",
    "h = a.capitalize()\n",
    "print(id(h))\n",
    "\n",
    "\n",
    "a.upper()\n"
   ]
  },
  {
   "cell_type": "code",
   "execution_count": 19,
   "metadata": {},
   "outputs": [
    {
     "name": "stdout",
     "output_type": "stream",
     "text": [
      "             mansipachauri@gmail.com\n",
      "             mansipachauri@gmail.com\n",
      "mansipachauri@gmail.com\n"
     ]
    }
   ],
   "source": [
    "i = \"             MANSIPACHAURI@GMAIL.COM\"\n",
    "print(i.lower())\n",
    "print(i.casefold())\n",
    "print(i.strip().lower())\n"
   ]
  },
  {
   "cell_type": "code",
   "execution_count": 20,
   "metadata": {},
   "outputs": [
    {
     "name": "stdout",
     "output_type": "stream",
     "text": [
      "                                             MANSIPACHAURI@GMAIL.COM                                \n"
     ]
    }
   ],
   "source": [
    "# The center() method will center align the string, using a specified character (space is default) as the fill character.\n",
    "\n",
    "m = i.center(100)\n",
    "print(m)"
   ]
  },
  {
   "cell_type": "code",
   "execution_count": 21,
   "metadata": {},
   "outputs": [
    {
     "name": "stdout",
     "output_type": "stream",
     "text": [
      "hello, and welcome to my world!\n",
      "             mansipachauri@gmail.com\n",
      "None\n"
     ]
    }
   ],
   "source": [
    "# casefold()\n",
    "# Converts string into lower case\n",
    "# The casefold() method returns a string where all the characters are lower case.\n",
    "# This method is similar to the lower() method, but the casefold() method is stronger, more aggressive, meaning \n",
    "#that it will convert more characters into lower case, and will find more matches when comparing two strings and \n",
    "#both are converted using the casefold() method.\n",
    "# syntax :- string.casefold()\n",
    "txt = \"Hello, And Welcome To My World!\"\n",
    "x = txt.casefold()\n",
    "print(x)\n",
    "\n",
    "n = print(i.casefold())\n",
    "print(n)"
   ]
  },
  {
   "cell_type": "code",
   "execution_count": 22,
   "metadata": {},
   "outputs": [
    {
     "name": "stdout",
     "output_type": "stream",
     "text": [
      "MANSIPACHAURI@GMAIL.COM\n"
     ]
    }
   ],
   "source": [
    "\n",
    "print(i.strip())\n"
   ]
  },
  {
   "cell_type": "code",
   "execution_count": 23,
   "metadata": {},
   "outputs": [
    {
     "name": "stdout",
     "output_type": "stream",
     "text": [
      "3\n",
      "3\n",
      "4\n",
      "1\n"
     ]
    }
   ],
   "source": [
    "print(i.count(\"I\"))\n",
    "print(i.count(\"M\"))\n",
    "print(i.count(\"A\"))\n",
    "print(i.count(\"P\"))"
   ]
  },
  {
   "cell_type": "code",
   "execution_count": 24,
   "metadata": {},
   "outputs": [
    {
     "name": "stdout",
     "output_type": "stream",
     "text": [
      "             MANSIPACHAURI@GMAIL.COM\n",
      "True\n",
      "False\n"
     ]
    }
   ],
   "source": [
    "# endswith()\n",
    "# The endswith() method returns True if the string ends with the specified value, otherwise False.\n",
    "# syntax:- string.endswith(value, start, end)\n",
    "\n",
    "print(i)\n",
    "x = i.endswith(\"M\") \n",
    "print(x)\n",
    "x = i.endswith(\"MANSI\", 5, 11)\n",
    "print(x)"
   ]
  },
  {
   "cell_type": "code",
   "execution_count": 25,
   "metadata": {},
   "outputs": [
    {
     "data": {
      "text/plain": [
       "False"
      ]
     },
     "execution_count": 25,
     "metadata": {},
     "output_type": "execute_result"
    }
   ],
   "source": [
    "# isalpha() \n",
    "# \n",
    "#\n",
    "#\n",
    "\n",
    "\n",
    "\n",
    "\n",
    "i.isalpha()"
   ]
  },
  {
   "cell_type": "code",
   "execution_count": 26,
   "metadata": {},
   "outputs": [
    {
     "data": {
      "text/plain": [
       "False"
      ]
     },
     "execution_count": 26,
     "metadata": {},
     "output_type": "execute_result"
    }
   ],
   "source": [
    "i.isnumeric()"
   ]
  },
  {
   "cell_type": "code",
   "execution_count": 27,
   "metadata": {},
   "outputs": [
    {
     "name": "stdout",
     "output_type": "stream",
     "text": [
      "             MANSIPACHAURI@GMAIL.COM\n"
     ]
    },
    {
     "data": {
      "text/plain": [
       "False"
      ]
     },
     "execution_count": 27,
     "metadata": {},
     "output_type": "execute_result"
    }
   ],
   "source": [
    "# The isalnum() method returns True if all the characters are alphanumeric, meaning alphabet letter (a-z) and numbers (0-9).\n",
    "# Example of characters that are not alphanumeric: (space)!#%&? etc.\n",
    "# string.isalnum()\n",
    "print(i)\n",
    "i.isalnum()\n"
   ]
  },
  {
   "cell_type": "code",
   "execution_count": 28,
   "metadata": {},
   "outputs": [
    {
     "name": "stdout",
     "output_type": "stream",
     "text": [
      "1\n",
      "6\n",
      "17\n",
      "16\n"
     ]
    }
   ],
   "source": [
    "# find(), Searches the string for a specified value and returns the position of where it was found\n",
    "txt=\"Hello, this is mansi pachauri.\"\n",
    "x = txt.find(\"e\")\n",
    "print(x)\n",
    "x = txt.find(\" \")\n",
    "print(x)\n",
    "x = txt.find(\"n\")\n",
    "print(x)\n",
    "x = txt.find(\"a\")\n",
    "print(x)"
   ]
  },
  {
   "cell_type": "code",
   "execution_count": 29,
   "metadata": {},
   "outputs": [
    {
     "name": "stdout",
     "output_type": "stream",
     "text": [
      "30\n"
     ]
    }
   ],
   "source": [
    "# len()\n",
    "# return the lenght of string \n",
    "# syntax :- len(srting)\n",
    "\n",
    "txt=\"Hello, this is mansi pachauri.\"\n",
    "print(len(txt))"
   ]
  },
  {
   "cell_type": "code",
   "execution_count": 30,
   "metadata": {},
   "outputs": [
    {
     "name": "stdout",
     "output_type": "stream",
     "text": [
      "Welcome To My Agra\n"
     ]
    }
   ],
   "source": [
    "# title(\n",
    "# Converts the first character of each word to upper case \n",
    "# The title() method returns a string where the first character in every word is upper case and rest is lower \n",
    "# syntax :- string.title()\n",
    "txt1 = \"Welcome to my Agra\"\n",
    "x = txt1.title()\n",
    "print(x)"
   ]
  },
  {
   "cell_type": "code",
   "execution_count": 31,
   "metadata": {},
   "outputs": [
    {
     "name": "stdout",
     "output_type": "stream",
     "text": [
      "2\n",
      "2\n",
      "1\n"
     ]
    }
   ],
   "source": [
    "# count()\n",
    "# The count() method returns the number of times a specified value appears in the string.\n",
    "# syntax :- string.count(value, start, end)  \n",
    "# \n",
    "txt2 = \"I love pachauri, pachauri is my favorite sername and my sername is also pachauri\"\n",
    "x = txt2.count(\"pachauri\",16,100)\n",
    "x1 = txt2.count(\"my\")\n",
    "x2 = txt2.count(\"also\")\n",
    "print(x)\n",
    "print(x1)\n",
    "print(x2)\n",
    "\n",
    "\n"
   ]
  },
  {
   "cell_type": "code",
   "execution_count": 32,
   "metadata": {},
   "outputs": [
    {
     "name": "stdout",
     "output_type": "stream",
     "text": [
      "1\n",
      "6\n",
      "17\n",
      "Where in the text is the first occurrence of the letter 'l' when you only search between position 0 and 5: 2\n",
      "9\n",
      "If the value is not found, the find() method returns -1, but the index() method will raise an exception : -1\n"
     ]
    }
   ],
   "source": [
    "# fint()\n",
    "# find(), Searches the string for a specified value and returns the position of where it was found\n",
    "# The find() method is almost the same as the index() method, the only difference is that the index() method \n",
    "#raises an exception if the value is not found.\n",
    "# The find() method returns -1 if the value is not found.\n",
    "# syntax :- string.find(value, start, end)\n",
    "    \n",
    "\n",
    "txt=\"Hello, this is mansi pachauri.\"\n",
    "x = txt.find(\"e\")\n",
    "print(x)\n",
    "x = txt.find(\" \")\n",
    "print(x)\n",
    "x = txt.find(\"n\")\n",
    "print(x)\n",
    "x = txt.find(\"l\",0,5)\n",
    "print(\"Where in the text is the first occurrence of the letter 'l' when you only search between position 0 and 5:\",x)\n",
    "x = txt.find(\"is\")\n",
    "print(x)\n",
    "x = txt.find(\"maaaa\")\n",
    "print(\"If the value is not found, the find() method returns -1, but the index() method will raise an exception :\",x)"
   ]
  },
  {
   "cell_type": "code",
   "execution_count": 33,
   "metadata": {},
   "outputs": [
    {
     "name": "stdout",
     "output_type": "stream",
     "text": [
      "1\n",
      "8\n",
      "-1\n"
     ]
    }
   ],
   "source": [
    "# index()\n",
    "# The index() method finds the first occurrence of the specified value. \n",
    "# The index() method is almost the same as the find() method, the only difference is that the find() method returns -1 \n",
    "#if the value is not found.\n",
    "# Syntax :- string.index(value, start, end)\n",
    "\n",
    "txt = \"Hello, welcome to my agra.\"\n",
    "x = txt.index(\"e\")                                  # Where in the text is the first occurrence of the letter \"e\"?\n",
    "print(x)\n",
    "\n",
    "# Where in the text is the first occurrence of the letter \"e\" when you only search between position 5 and 10;\n",
    "x = txt.index(\"e\", 5, 10)  \n",
    "print(x)\n",
    "\n",
    "# If the value is not found, the find() method returns -1, but the index() method will raise an exception:\n",
    "print(txt.find(\"q\"))\n",
    "#print(txt.index(\"q\"))\n"
   ]
  },
  {
   "cell_type": "code",
   "execution_count": 34,
   "metadata": {},
   "outputs": [
    {
     "name": "stdout",
     "output_type": "stream",
     "text": [
      "True\n",
      "True\n"
     ]
    }
   ],
   "source": [
    "# startwith()\n",
    "# The startswith() method returns True if the string starts with the specified value, otherwise False.\n",
    "# Syntax :- string.startswith(value, start, end)\n",
    "\n",
    "# Check if the string starts with \"Hello\":\n",
    "txt = \"Hello, welcome to my mumbai.\"\n",
    "x = txt.startswith(\"Hello\")\n",
    "print(x)\n",
    "\n",
    "\n",
    "# Check if position 7 to 20 starts with the characters \"wel\":\n",
    "txt = \"Hello, welcome to my mumbai.\"\n",
    "x = txt.startswith(\"wel\", 7, 20)\n",
    "print(x)"
   ]
  },
  {
   "cell_type": "code",
   "execution_count": 35,
   "metadata": {},
   "outputs": [
    {
     "name": "stdout",
     "output_type": "stream",
     "text": [
      "True\n",
      "False\n",
      "True\n",
      "False\n"
     ]
    }
   ],
   "source": [
    "# islower()\n",
    "# The islower() method returns True if all the characters are in lower case, otherwise False.\n",
    "# Numbers, symbols and spaces are not checked, only alphabet characters.\n",
    "# syntax:-  string.islower()\n",
    "\n",
    "q = \"hello world!\"\n",
    "q1 = q.islower()                 # Check if all the characters in the text are in lower case:\n",
    "print(q1)\n",
    "\n",
    "w1= \"Hello world!\"\n",
    "w2= \"hello 123\"\n",
    "w3= \"mynameisPeter\"\n",
    "\n",
    "print(w1.islower())         # Check if all the characters in the texts are in lower case:   \n",
    "print(w2.islower())\n",
    "print(w3.islower())    \n"
   ]
  },
  {
   "cell_type": "code",
   "execution_count": 36,
   "metadata": {},
   "outputs": [
    {
     "name": "stdout",
     "output_type": "stream",
     "text": [
      "False\n",
      "False\n",
      "True\n",
      "True\n",
      "True\n"
     ]
    }
   ],
   "source": [
    "# istitle()\n",
    "# The istitle() method returns True if all words in a text start with a upper case letter, AND the rest of \n",
    "#the word are lower case letters, otherwise False.\n",
    "# Symbols and numbers are ignored.\n",
    "# Syntax:- string.istitle()\n",
    "\n",
    "e = \"Hello, And Welcome To My World!\"           # Check if each word start with an upper case letter:   \n",
    "e1=txt.istitle()\n",
    "print(e1)\n",
    "\n",
    "r1 = \"HELLO, AND WELCOME TO MY agra\"\n",
    "r2= \"Hello\"\n",
    "r3= \"22 Names\"\n",
    "r4= \"This Is %'!?\"\n",
    "                                            # Check if each word start with an upper case letter:\n",
    "print(r1.istitle())\n",
    "print(r2.istitle())\n",
    "print(r3.istitle())\n",
    "print(r4.istitle())\n",
    "\n"
   ]
  },
  {
   "cell_type": "code",
   "execution_count": 37,
   "metadata": {},
   "outputs": [
    {
     "name": "stdout",
     "output_type": "stream",
     "text": [
      "of all fruits mango is my favorite\n",
      "of all fruits      mango is my favorite\n",
      "of all fruits mango      is my favorite\n"
     ]
    }
   ],
   "source": [
    "# strip()\n",
    "# The strip() method removes any leading (spaces at the beginning) and trailing (spaces at the end) characters \n",
    "# string.strip(characters)\n",
    "\n",
    "t = \"     mango     \"\n",
    "t1 = t.strip()\n",
    "print(\"of all fruits\", t1, \"is my favorite\")\n",
    "\n",
    "\n",
    "\n",
    "\n",
    "# rstrip()\n",
    "# The rstrip() method removes any trailing characters (characters at the end a string), space is the default \n",
    "#trailing character to remove.\n",
    "t = \"     mango     \"\n",
    "t2 = t.rstrip()\n",
    "print(\"of all fruits\", t2, \"is my favorite\")\n",
    "\n",
    "\n",
    "\n",
    "# lstrip()\n",
    "# The lstrip() method removes any leading characters (space is the default leading character to remove)\n",
    "# string.lstrip(characters)\n",
    "\n",
    "\n",
    "t3 = t.lstrip()\n",
    "\n",
    "print(\"of all fruits\", t3, \"is my favorite\")\n",
    "\n",
    "\n"
   ]
  },
  {
   "cell_type": "code",
   "execution_count": 38,
   "metadata": {},
   "outputs": [
    {
     "name": "stdout",
     "output_type": "stream",
     "text": [
      "I like agra\n",
      "three three was a race horse, two two was three too.\n",
      "three three was a race horse, two two was one too.\n"
     ]
    }
   ],
   "source": [
    "# replace()\n",
    "# The replace() method replaces a specified phrase with another specified phrase.\n",
    "# string.replace(oldvalue, newvalue, count)\n",
    "# oldvalue\tRequired. The string to search for\n",
    "# ewvalue\tRequired. The string to replace the old value with\n",
    "# count\tOptional.A number specifying how many occurrences of the old value you want to replace.Default is all occurrences\n",
    "\n",
    "y = \"I like noida\"\n",
    "\n",
    "y1 = y.replace(\"noida\", \"agra\")\n",
    "\n",
    "print(y1)\n",
    "\n",
    "\n",
    "# Replace all occurrence of the word \"one\":\n",
    "\n",
    "y2 = \"one one was a race horse, two two was one too.\"\n",
    "y3 = y2.replace(\"one\", \"three\")\n",
    "print(y3)\n",
    "\n",
    "\n",
    "# Replace the two first occurrence of the word \"one\":\n",
    "\n",
    "y4 = \"one one was a race horse, two two was one too.\"\n",
    "\n",
    "y5 = y4.replace(\"one\", \"three\", 2)\n",
    "\n",
    "print(y5)\n",
    "\n",
    "\n"
   ]
  },
  {
   "cell_type": "code",
   "execution_count": 39,
   "metadata": {},
   "outputs": [
    {
     "ename": "AttributeError",
     "evalue": "'tuple' object has no attribute 'join'",
     "output_type": "error",
     "traceback": [
      "\u001b[1;31m---------------------------------------------------------------------------\u001b[0m",
      "\u001b[1;31mAttributeError\u001b[0m                            Traceback (most recent call last)",
      "Cell \u001b[1;32mIn[39], line 7\u001b[0m\n\u001b[0;32m      1\u001b[0m \u001b[39m# join()\u001b[39;00m\n\u001b[0;32m      2\u001b[0m \u001b[39m# The join() method takes all items in an iterable and joins them into one string.\u001b[39;00m\n\u001b[0;32m      3\u001b[0m \u001b[39m# A string must be specified as the separator.\u001b[39;00m\n\u001b[0;32m      4\u001b[0m \u001b[39m# string.join(iterable)\u001b[39;00m\n\u001b[0;32m      6\u001b[0m u \u001b[39m=\u001b[39m (\u001b[39m\"\u001b[39m\u001b[39mhello\u001b[39m\u001b[39m\"\u001b[39m,\u001b[39m\"\u001b[39m\u001b[39mworld\u001b[39m\u001b[39m\"\u001b[39m,\u001b[39m\"\u001b[39m\u001b[39mcountry\u001b[39m\u001b[39m\"\u001b[39m)\n\u001b[1;32m----> 7\u001b[0m u1 \u001b[39m=\u001b[39m u\u001b[39m.\u001b[39;49mjoin(\u001b[39m\"\u001b[39m\u001b[39m#\u001b[39m\u001b[39m\"\u001b[39m)\n",
      "\u001b[1;31mAttributeError\u001b[0m: 'tuple' object has no attribute 'join'"
     ]
    }
   ],
   "source": [
    "# join()\n",
    "# The join() method takes all items in an iterable and joins them into one string.\n",
    "# A string must be specified as the separator.\n",
    "# string.join(iterable)\n",
    "\n",
    "u = (\"hello\",\"world\",\"country\")\n",
    "u1 = u.join(\"#\")"
   ]
  },
  {
   "cell_type": "code",
   "execution_count": null,
   "metadata": {},
   "outputs": [
    {
     "name": "stdout",
     "output_type": "stream",
     "text": [
      "('I could eat ', 'orange', ' all day')\n"
     ]
    }
   ],
   "source": [
    "# partition()\n",
    "# The partition() method searches for a specified string, and splits the string into a tuple containing three elements.\n",
    "\n",
    "# The first element contains the part before the specified string.\n",
    "# The second element contains the specified string.\n",
    "# The third element contains the part after the string.\n",
    "# syntax :- string.partition(value)\n",
    "\n",
    "i = \"I could eat orange all day\"\n",
    "\n",
    "i2 = i.partition(\"orange\")\n",
    "\n",
    "print(i2)\n"
   ]
  },
  {
   "cell_type": "code",
   "execution_count": null,
   "metadata": {},
   "outputs": [],
   "source": []
  }
 ],
 "metadata": {
  "kernelspec": {
   "display_name": "Python 3",
   "language": "python",
   "name": "python3"
  },
  "language_info": {
   "codemirror_mode": {
    "name": "ipython",
    "version": 3
   },
   "file_extension": ".py",
   "mimetype": "text/x-python",
   "name": "python",
   "nbconvert_exporter": "python",
   "pygments_lexer": "ipython3",
   "version": "3.9.7"
  },
  "orig_nbformat": 4
 },
 "nbformat": 4,
 "nbformat_minor": 2
}
