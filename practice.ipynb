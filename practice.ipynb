{
 "cells": [
  {
   "cell_type": "code",
   "execution_count": 83,
   "metadata": {},
   "outputs": [
    {
     "name": "stdout",
     "output_type": "stream",
     "text": [
      "[10]\n",
      "[10, 10.1]\n",
      "[10, 10.1, 'mansi']\n",
      "[10, 10.1, 'mansi', [1, 2, 3, 4]]\n",
      "the id of 2 is 1713153010000\n"
     ]
    }
   ],
   "source": [
    "a = []\n",
    "a.append(10)\n",
    "print(a)\n",
    "a.append(10.1)\n",
    "print(a)\n",
    "a.append(\"mansi\")\n",
    "print(a)\n",
    "a.append([1,2,3,4])\n",
    "print(a)\n",
    "print(\"the id of 2 is\", id(2))\n"
   ]
  },
  {
   "cell_type": "code",
   "execution_count": 84,
   "metadata": {},
   "outputs": [
    {
     "name": "stdout",
     "output_type": "stream",
     "text": [
      "1\n",
      "1\n"
     ]
    }
   ],
   "source": [
    "print(a.count(10))\n",
    "print(a.count([1,2,3,4]))"
   ]
  },
  {
   "cell_type": "code",
   "execution_count": 85,
   "metadata": {},
   "outputs": [
    {
     "name": "stdout",
     "output_type": "stream",
     "text": [
      "6\n",
      "6\n",
      "5\n",
      "[1, 1, 1, 1, 1, 1, 2, 2, 2, 2, 2, 2, 3, 3, 3, 3, 3, 4, 4, 4, 4, 4, 4, 4, 4]\n",
      "[1, 1, 1, 1, 1, 1, 2, 2, 2, 2, 2, 2, 3, 3, 3, 3, 3, 4, 4, 4, 4, 4, 4, 4, 4, [8, 8, 8, 8]]\n",
      "[1, 1, 1, 1, 1, 1, 2, 2, 2, 2, 2, 2, 3, 3, 3, 3, 3, 4, 4, 4, 4, 4, 4, 4, 4, [8, 8, 8, 8], 'm', 'a', 'n', 's', 'i']\n",
      "[1, 1, 1, 1, 1, 1, 2, 2, 2, 2, 2, 2, 3, 3, 3, 3, 3, 4, 4, 4, 4, 4, 4, 4, 4, [8, 8, 8, 8], 'm', 'a', 'n', 's', 'i', 'mansi']\n",
      "[1, 1, 1, 1, 1, 1, 2, 2, 2, 2, 2, 2, 3, 3, 3, 3, 3, 4, 4, 4, 4, 4, 4, 4, 4, [8, 8, 8, 8], 'm', 'a', 'n', 's', 'i']\n",
      "[1, 1, 1, 1, 1, 1, 2, 2, 2, 2, 2, 2, 3, 3, 3, 3, 3, 4, 4, 4, 4, 4, 4, 4, 4, 'm', 'a', 'n', 's', 'i']\n"
     ]
    }
   ],
   "source": [
    "b = [1,1,1,1,1,1,2,2,2,2,2,2,3,3,3,3,3]\n",
    "print(b.count(1))\n",
    "print(b.count(2))\n",
    "print(b.count(3))\n",
    "b.extend([4,4,4,4,4,4,4,4])\n",
    "print(b)\n",
    "b.append([8,8,8,8])\n",
    "print(b)\n",
    "b.extend(\"mansi\")\n",
    "print(b)\n",
    "b.append(\"mansi\")\n",
    "print(b)\n",
    "b.pop()\n",
    "print(b)\n",
    "b.pop(25)\n",
    "print(b)\n",
    "\n"
   ]
  },
  {
   "cell_type": "code",
   "execution_count": 86,
   "metadata": {},
   "outputs": [
    {
     "name": "stdout",
     "output_type": "stream",
     "text": [
      "[1, 1, 1, 1, 1, 1, 2, 2, 2, 2, 2, 2, 3, 3, 3, 3, 3, 4, 4, 4, 4, 4, 4, 4, 4, 'm', 'a', 'n', 's']\n"
     ]
    }
   ],
   "source": [
    "b.pop()\n",
    "print(b)"
   ]
  },
  {
   "cell_type": "code",
   "execution_count": 87,
   "metadata": {},
   "outputs": [
    {
     "name": "stdout",
     "output_type": "stream",
     "text": [
      "[1, 2, 3, 4]\n",
      "1713260743680\n"
     ]
    }
   ],
   "source": [
    "a = [1,2,3,4]\n",
    "\n",
    "print(a)\n",
    "print(id(a))"
   ]
  },
  {
   "cell_type": "code",
   "execution_count": 88,
   "metadata": {},
   "outputs": [
    {
     "name": "stdout",
     "output_type": "stream",
     "text": [
      "[1, 2, 3, 4]\n",
      "1713260743680\n"
     ]
    }
   ],
   "source": [
    "b=a\n",
    "print(b)\n",
    "print(id(b))\n",
    "\n"
   ]
  },
  {
   "cell_type": "code",
   "execution_count": 89,
   "metadata": {},
   "outputs": [
    {
     "name": "stdout",
     "output_type": "stream",
     "text": [
      "[1, 2, 3, 4]\n",
      "1713239173056\n"
     ]
    }
   ],
   "source": [
    "b=a.copy()\n",
    "print(b)\n",
    "print(id(b))"
   ]
  },
  {
   "cell_type": "code",
   "execution_count": 90,
   "metadata": {},
   "outputs": [
    {
     "name": "stdout",
     "output_type": "stream",
     "text": [
      "[1, 2, 3, 4, 10]\n",
      "1713260743680\n"
     ]
    }
   ],
   "source": [
    "a.append(10)\n",
    "print(a)\n",
    "print(id(a))"
   ]
  },
  {
   "cell_type": "code",
   "execution_count": 91,
   "metadata": {},
   "outputs": [
    {
     "name": "stdout",
     "output_type": "stream",
     "text": [
      "[1, 2, 3, 4]\n"
     ]
    }
   ],
   "source": [
    "print(b)"
   ]
  },
  {
   "cell_type": "code",
   "execution_count": 92,
   "metadata": {},
   "outputs": [
    {
     "name": "stdout",
     "output_type": "stream",
     "text": [
      "[1, 2, 3, 4, 10]\n"
     ]
    }
   ],
   "source": [
    "print(a.copy())"
   ]
  },
  {
   "cell_type": "code",
   "execution_count": 93,
   "metadata": {},
   "outputs": [
    {
     "ename": "TypeError",
     "evalue": "unhashable type: 'dict'",
     "output_type": "error",
     "traceback": [
      "\u001b[1;31m---------------------------------------------------------------------------\u001b[0m",
      "\u001b[1;31mTypeError\u001b[0m                                 Traceback (most recent call last)",
      "Cell \u001b[1;32mIn[93], line 1\u001b[0m\n\u001b[1;32m----> 1\u001b[0m \u001b[39mbool\u001b[39m({{}})\n",
      "\u001b[1;31mTypeError\u001b[0m: unhashable type: 'dict'"
     ]
    }
   ],
   "source": [
    "bool({{}})"
   ]
  },
  {
   "cell_type": "code",
   "execution_count": 94,
   "metadata": {},
   "outputs": [
    {
     "data": {
      "text/plain": [
       "True"
      ]
     },
     "execution_count": 94,
     "metadata": {},
     "output_type": "execute_result"
    }
   ],
   "source": [
    "bool(2e5)"
   ]
  },
  {
   "cell_type": "code",
   "execution_count": 95,
   "metadata": {},
   "outputs": [
    {
     "name": "stdout",
     "output_type": "stream",
     "text": [
      "mansi pachauri\n",
      "mansi pachauri \n",
      " mansi \n",
      " pachauri\n",
      " mansi \n",
      "pachauri\n"
     ]
    }
   ],
   "source": [
    "print(\"mansi pachauri\")\n",
    "print('mansi pachauri ')\n",
    "print(\"\"\" mansi \n",
    " pachauri\"\"\")\n",
    "print(''' mansi \n",
    "pachauri''')"
   ]
  },
  {
   "cell_type": "code",
   "execution_count": 96,
   "metadata": {},
   "outputs": [
    {
     "name": "stdout",
     "output_type": "stream",
     "text": [
      "? mansi 4 mansi 8 mansi r\n",
      "? priyansh 4 priyansh 8 priyansh r\n",
      "? pachauri 4 pachauri 8 pachauri r\n"
     ]
    }
   ],
   "source": [
    "print(\"?\",\"4\",\"8\",\"r\",sep=\" mansi \")\n",
    "print(\"?\",\"4\",\"8\",\"r\",sep=\" priyansh \")\n",
    "print(\"?\",\"4\",\"8\",\"r\",sep=\" pachauri \")"
   ]
  },
  {
   "cell_type": "code",
   "execution_count": 97,
   "metadata": {},
   "outputs": [
    {
     "name": "stdout",
     "output_type": "stream",
     "text": [
      "? mansi 4 mansi 8 mansi r\n",
      "? priyansh 4 priyansh 8 priyansh r &&& ? pachauri 4 pachauri 8 pachauri r\n",
      "this \\n is ma\n",
      "si pachauri\n"
     ]
    }
   ],
   "source": [
    "print(\"?\",\"4\",\"8\",\"r\",sep=\" mansi \",end=\"\\n\")\n",
    "print(\"?\",\"4\",\"8\",\"r\",sep=\" priyansh \",end=\" &&& \")\n",
    "print(\"?\",\"4\",\"8\",\"r\",sep=\" pachauri \",end=\"\\n\")\n",
    "\n",
    "print(\"this \\\\n is ma\\nsi pachauri\")\n"
   ]
  },
  {
   "cell_type": "code",
   "execution_count": 98,
   "metadata": {},
   "outputs": [
    {
     "name": "stdout",
     "output_type": "stream",
     "text": [
      " 1 \n",
      " 0 2 \n",
      " 0 3 0 \n"
     ]
    }
   ],
   "source": [
    "# 1\n",
    "# 0 2\n",
    "# 0 3 0\n",
    "print(\" 1\",\"2\",\"3\", sep=\" \\n 0 \" , end=\" 0 \\n\")\n"
   ]
  },
  {
   "cell_type": "code",
   "execution_count": 99,
   "metadata": {},
   "outputs": [
    {
     "name": "stdout",
     "output_type": "stream",
     "text": [
      "mansipachauri\n",
      "mansi pachauri\n",
      "mansipachauri\n"
     ]
    }
   ],
   "source": [
    "print(\"mansi\"\"pachauri\")\n",
    "print(\"mansi\",\"pachauri\")\n",
    "print(\"mansi\"+\"pachauri\")\n"
   ]
  },
  {
   "cell_type": "code",
   "execution_count": 100,
   "metadata": {},
   "outputs": [
    {
     "name": "stdout",
     "output_type": "stream",
     "text": [
      " this is mansi pachauri \n",
      " this is 'mansi' pachauri \n",
      " this is \"mansi\" pachauri \n",
      " this is mansi's pachauri \n",
      " this is mansi's pachauri \n"
     ]
    }
   ],
   "source": [
    "print(\" this is mansi pachauri \")\n",
    "print(\" this is 'mansi' pachauri \")\n",
    "print(' this is \"mansi\" pachauri ')\n",
    "print(\" this is mansi's pachauri \")\n",
    "print(' this is mansi\\'s pachauri ')"
   ]
  },
  {
   "cell_type": "code",
   "execution_count": 101,
   "metadata": {},
   "outputs": [
    {
     "name": "stdout",
     "output_type": "stream",
     "text": [
      " This is \n",
      "atasha\n",
      " This is \\natasha\\ \n",
      " This is \\natasha\n"
     ]
    }
   ],
   "source": [
    "print(\" This is \\natasha\")\n",
    "print(\" This is \\\\natasha\\ \")\n",
    "print(\" This is \\\\natasha\")"
   ]
  },
  {
   "cell_type": "code",
   "execution_count": 102,
   "metadata": {},
   "outputs": [
    {
     "name": "stdout",
     "output_type": "stream",
     "text": [
      "this is \tabooo\n",
      "this is \ttab\n"
     ]
    }
   ],
   "source": [
    "print(\"this is \\tabooo\")  \n",
    "print(\"this is \\ttab\")"
   ]
  },
  {
   "cell_type": "code",
   "execution_count": 103,
   "metadata": {},
   "outputs": [
    {
     "name": "stdout",
     "output_type": "stream",
     "text": [
      " this isackward slash method \n",
      " this isbackward  slash method \n"
     ]
    }
   ],
   "source": [
    "print(\" this is \\backward slash method \")\n",
    "print(\" this is \\bbackward  slash method \")"
   ]
  },
  {
   "cell_type": "code",
   "execution_count": 104,
   "metadata": {},
   "outputs": [],
   "source": [
    "import sys"
   ]
  },
  {
   "cell_type": "code",
   "execution_count": 105,
   "metadata": {},
   "outputs": [
    {
     "name": "stdout",
     "output_type": "stream",
     "text": [
      "golu\n"
     ]
    },
    {
     "data": {
      "text/plain": [
       "55"
      ]
     },
     "execution_count": 105,
     "metadata": {},
     "output_type": "execute_result"
    }
   ],
   "source": [
    "golu = \"laptop\"\n",
    "print(\"golu\")\n",
    "sys.getsizeof(golu)"
   ]
  },
  {
   "cell_type": "code",
   "execution_count": 106,
   "metadata": {},
   "outputs": [
    {
     "name": "stdout",
     "output_type": "stream",
     "text": [
      "(' laptop', 'charge', 'mobile', 'headphone')\n",
      "<class 'tuple'>\n"
     ]
    }
   ],
   "source": [
    "golu =\" laptop\",\"charge\",\"mobile\",\"headphone\"\n",
    "print(golu)\n",
    "sys.getsizeof(golu)\n",
    "print(type(golu))\n",
    "# print(golu.bit_lenght)"
   ]
  },
  {
   "cell_type": "code",
   "execution_count": 107,
   "metadata": {},
   "outputs": [
    {
     "name": "stdout",
     "output_type": "stream",
     "text": [
      "10\n",
      "hello world\n",
      "<class 'int'>\n",
      "hello world\n"
     ]
    }
   ],
   "source": [
    "import builtins\n",
    "\n",
    "\n",
    "a = 10        # 1010\n",
    "print(a)\n",
    "print(\"hello world\")\n",
    "print(type(a))\n",
    "builtins.print(\"hello world\")"
   ]
  },
  {
   "cell_type": "code",
   "execution_count": 108,
   "metadata": {},
   "outputs": [
    {
     "data": {
      "text/plain": [
       "'0b1010'"
      ]
     },
     "execution_count": 108,
     "metadata": {},
     "output_type": "execute_result"
    }
   ],
   "source": [
    "builtins.bin(a)"
   ]
  },
  {
   "cell_type": "code",
   "execution_count": 109,
   "metadata": {},
   "outputs": [
    {
     "data": {
      "text/plain": [
       "'0xa'"
      ]
     },
     "execution_count": 109,
     "metadata": {},
     "output_type": "execute_result"
    }
   ],
   "source": [
    "builtins.hex(a)"
   ]
  },
  {
   "cell_type": "code",
   "execution_count": 110,
   "metadata": {},
   "outputs": [
    {
     "data": {
      "text/plain": [
       "'0o12'"
      ]
     },
     "execution_count": 110,
     "metadata": {},
     "output_type": "execute_result"
    }
   ],
   "source": [
    "builtins.oct(a)"
   ]
  },
  {
   "cell_type": "code",
   "execution_count": 111,
   "metadata": {},
   "outputs": [
    {
     "data": {
      "text/plain": [
       "'0o12'"
      ]
     },
     "execution_count": 111,
     "metadata": {},
     "output_type": "execute_result"
    }
   ],
   "source": [
    "\n",
    "oct(a)"
   ]
  },
  {
   "cell_type": "code",
   "execution_count": 112,
   "metadata": {},
   "outputs": [
    {
     "data": {
      "text/plain": [
       "4"
      ]
     },
     "execution_count": 112,
     "metadata": {},
     "output_type": "execute_result"
    }
   ],
   "source": [
    "a.bit_length()\n"
   ]
  },
  {
   "cell_type": "code",
   "execution_count": 113,
   "metadata": {},
   "outputs": [
    {
     "name": "stdout",
     "output_type": "stream",
     "text": [
      "65\n",
      "97\n",
      "66\n",
      "98\n",
      "67\n",
      "99\n",
      "64\n",
      "36\n",
      "37\n",
      "33\n",
      "92\n"
     ]
    }
   ],
   "source": [
    "print(ord(\"A\"))\n",
    "print(ord(\"a\"))\n",
    "print(ord(\"B\"))\n",
    "print(ord(\"b\"))\n",
    "print(ord(\"C\"))\n",
    "print(ord(\"c\"))\n",
    "print(ord(\"@\"))\n",
    "print(ord(\"$\"))\n",
    "print(ord(\"%\"))\n",
    "print(ord(\"!\"))\n",
    "print(ord(\"\\\\\"))"
   ]
  },
  {
   "cell_type": "code",
   "execution_count": 114,
   "metadata": {},
   "outputs": [
    {
     "name": "stdout",
     "output_type": "stream",
     "text": [
      "0b100000\n",
      "0b110110\n",
      "0b1001110\n",
      "0b10\n",
      "0b0\n",
      "0b1\n"
     ]
    }
   ],
   "source": [
    "print(bin(32))\n",
    "print(bin(54))\n",
    "print(bin(78))\n",
    "print(bin(2))\n",
    "print(bin(0))\n",
    "print(bin(1))"
   ]
  },
  {
   "cell_type": "code",
   "execution_count": 115,
   "metadata": {},
   "outputs": [
    {
     "name": "stdout",
     "output_type": "stream",
     "text": [
      "mansi pachauri \n",
      " <class 'str'> \n",
      " 1713260292144\n"
     ]
    }
   ],
   "source": [
    "a1 = \"mansi pachauri\"\n",
    "print(a1,\"\\n\",type(a1),\"\\n\",id(a1))"
   ]
  },
  {
   "cell_type": "code",
   "execution_count": 116,
   "metadata": {},
   "outputs": [
    {
     "name": "stdout",
     "output_type": "stream",
     "text": [
      "mansi\n",
      "m\n",
      "a\n",
      "n\n",
      "s\n",
      "i\n"
     ]
    }
   ],
   "source": [
    "a2 = \"mansi\"\n",
    "print(a2)\n",
    "print(a2[0])\n",
    "print(a2[1])\n",
    "print(a2[2])\n",
    "print(a2[3])\n",
    "print(a2[4])"
   ]
  },
  {
   "cell_type": "code",
   "execution_count": 117,
   "metadata": {},
   "outputs": [
    {
     "name": "stdout",
     "output_type": "stream",
     "text": [
      "i\n",
      "s\n",
      "n\n",
      "a\n",
      "m\n"
     ]
    }
   ],
   "source": [
    "print(a2[-1])\n",
    "print(a2[-2])\n",
    "print(a2[-3])\n",
    "print(a2[-4])\n",
    "print(a2[-5])"
   ]
  },
  {
   "cell_type": "code",
   "execution_count": 118,
   "metadata": {},
   "outputs": [
    {
     "name": "stdout",
     "output_type": "stream",
     "text": [
      "Mansi Pachauri\n",
      "M\n",
      "a\n",
      "n\n",
      "s\n",
      "i\n",
      " \n",
      "P\n",
      "a\n",
      "c\n",
      "h\n",
      "a\n",
      "u\n",
      "r\n",
      "i\n"
     ]
    }
   ],
   "source": [
    "a3 = \"Mansi Pachauri\"\n",
    "print(a3)\n",
    "print(a3[0])\n",
    "print(a3[1])\n",
    "print(a3[2])\n",
    "print(a3[3])\n",
    "print(a3[4])\n",
    "print(a3[5])\n",
    "print(a3[6])\n",
    "print(a3[7])\n",
    "print(a3[8])\n",
    "print(a3[9])\n",
    "print(a3[10])\n",
    "print(a3[11])\n",
    "print(a3[12])\n",
    "print(a3[13])\n"
   ]
  },
  {
   "cell_type": "code",
   "execution_count": 119,
   "metadata": {},
   "outputs": [
    {
     "name": "stdout",
     "output_type": "stream",
     "text": [
      "Mansi Pachauri\n"
     ]
    }
   ],
   "source": [
    "print(a3)"
   ]
  },
  {
   "cell_type": "code",
   "execution_count": 120,
   "metadata": {},
   "outputs": [
    {
     "name": "stdout",
     "output_type": "stream",
     "text": [
      "Mansi P\n",
      "nsi P\n",
      "Mansi Pachauri\n",
      "Mansi Pachauri\n",
      "ansi\n",
      "MniP\n",
      "MsPhr\n",
      "Mansi Pachauri\n",
      "Mansi Pachauri\n",
      "ansi Pachaur\n",
      "Mansi Pachauri\n"
     ]
    }
   ],
   "source": [
    "print(a3[0:7])\n",
    "print(a3[2:7])\n",
    "print(a3[:])\n",
    "print(a3[::])\n",
    "print(a3[1:5:1])\n",
    "print(a3[0:7:2])\n",
    "print(a3[::3])\n",
    "print(a3[0:14:1])\n",
    "print(a3[0:798:1])\n",
    "print(a3[1:-1:1])\n",
    "print(a3[0::1])"
   ]
  },
  {
   "cell_type": "code",
   "execution_count": 121,
   "metadata": {},
   "outputs": [
    {
     "name": "stdout",
     "output_type": "stream",
     "text": [
      "0123456789\n",
      "123456789\n",
      "13579\n",
      "02468\n"
     ]
    }
   ],
   "source": [
    "q1 = \"0123456789\"\n",
    "print(q1)\n",
    "print(q1[1:23:1])\n",
    "print(q1[1:23:2])\n",
    "print(q1[0:23:2])\n",
    "\n"
   ]
  },
  {
   "cell_type": "code",
   "execution_count": 122,
   "metadata": {},
   "outputs": [
    {
     "name": "stdout",
     "output_type": "stream",
     "text": [
      "mansi pachauri\n"
     ]
    }
   ],
   "source": [
    "print(a1)"
   ]
  },
  {
   "cell_type": "code",
   "execution_count": 134,
   "metadata": {},
   "outputs": [
    {
     "name": "stdout",
     "output_type": "stream",
     "text": [
      "iruahcaP isnaM\n",
      "iuha sa\n",
      "Mansi Pachaur\n",
      "\n",
      "iruahcaP isnaM\n",
      "iruahcaP isnaM\n",
      "iruahcaP isnaM\n"
     ]
    }
   ],
   "source": [
    "\n",
    "print(a3[-1:-15:-1])\n",
    "print(a3[-1:-15:-2])\n",
    "print(a3[-153:-1:1])\n",
    "print(a3[0:65:-1])\n",
    "print(a3[-1:-15:-1])\n",
    "print(a3[-1:-15:-1])\n",
    "print(a3[-1:-15:-1])"
   ]
  },
  {
   "cell_type": "code",
   "execution_count": 136,
   "metadata": {},
   "outputs": [
    {
     "name": "stdout",
     "output_type": "stream",
     "text": [
      "\n"
     ]
    }
   ],
   "source": [
    "print(a3[0:65:-1])"
   ]
  },
  {
   "cell_type": "code",
   "execution_count": 156,
   "metadata": {},
   "outputs": [
    {
     "name": "stdout",
     "output_type": "stream",
     "text": [
      "   this is Priyansh Pachauri 1713260488384\n",
      "   this is priyansh pachauri 1713261683376\n",
      "   THIS IS PRIYANSH PACHAURI 1713261683696\n",
      "   this is priyansh pachauri 1713261685056\n",
      "   this is priyansh pachauri 1713261685216\n",
      "this is Priyansh Pachauri 1713261684816\n",
      "                                       this is Priyansh Pachauri                                     1713262036592\n"
     ]
    }
   ],
   "source": [
    "w = \"   this is Priyansh Pachauri\"\n",
    "print(w,id(w))\n",
    "print(w.capitalize(),id(w.capitalize()))\n",
    "\n",
    "print(w.upper(),id(w.upper()))\n",
    "\n",
    "print(w.lower(),id(w.lower()))\n",
    "\n",
    "print(w.casefold(),id(w.casefold()))\n",
    "\n",
    "print(w.strip(),id(w.strip()))\n",
    "\n",
    "print(w.center(100),id(w.center(100) ))\n"
   ]
  },
  {
   "cell_type": "code",
   "execution_count": null,
   "metadata": {},
   "outputs": [],
   "source": []
  }
 ],
 "metadata": {
  "kernelspec": {
   "display_name": "Python 3",
   "language": "python",
   "name": "python3"
  },
  "language_info": {
   "codemirror_mode": {
    "name": "ipython",
    "version": 3
   },
   "file_extension": ".py",
   "mimetype": "text/x-python",
   "name": "python",
   "nbconvert_exporter": "python",
   "pygments_lexer": "ipython3",
   "version": "3.9.7"
  },
  "orig_nbformat": 4
 },
 "nbformat": 4,
 "nbformat_minor": 2
}
