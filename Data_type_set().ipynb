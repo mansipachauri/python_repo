{
 "cells": [
  {
   "cell_type": "code",
   "execution_count": null,
   "metadata": {},
   "outputs": [],
   "source": [
    "# set()\n",
    "\n",
    "# Sets are used to store multiple items in a single variable.\n",
    "# set constructor is set() .\n",
    "# set literal doesn't exit {it borrow literal from dictionary()} .\n",
    "# set is unordered set of sequence of element . \n",
    "# set doesn't allowed Duplicates value .\n",
    "# set follows hashing table cocept to remove duplicacy .\n",
    "# set allowed only hashable datatype (immutable) .\n",
    "# set is mutable itself , but only immutable datatypes are exist in set.\n",
    "# A set is a collection which is unordered, unchangeable*, and unindexed.\n",
    "# Sets are written with curly brackets {}."
   ]
  },
  {
   "cell_type": "code",
   "execution_count": null,
   "metadata": {},
   "outputs": [
    {
     "name": "stdout",
     "output_type": "stream",
     "text": [
      "set()\n",
      "<class 'set'>\n"
     ]
    }
   ],
   "source": [
    "# set constructor is set() .\n",
    "# set literal doesn't exit {it borrow literal from dictionary()} .  \n",
    "\n",
    "a = set()\n",
    "print(a)\n",
    "print(type(a))"
   ]
  },
  {
   "cell_type": "code",
   "execution_count": null,
   "metadata": {},
   "outputs": [
    {
     "name": "stdout",
     "output_type": "stream",
     "text": [
      "the set is allow int() because int() is immutable , so thatway they print 1 = {1}\n",
      "the set is allow float() because float() is immutable , so thatway they print = {10.3, 19.7, 12.4}\n",
      "the set is allow string() because string() is immutable , so thatway they print = {'Mansi Pachauri'}\n",
      "the set is allow tuple() because tuple() is immutable , so thatway they print = {(1, 2, 3, 4)}\n",
      "the set is not allow list() because list() is mutable or set is not allow mutable value, so thatway they not print f  =\n",
      "the set is not allow set() because set() is mutable or set is not allow mutable value, so thatway they not print g  =\n"
     ]
    }
   ],
   "source": [
    "# set allowed only hashable datatype (immutable) .\n",
    "# set is not allowed nesting\n",
    "\n",
    "b = {1}\n",
    "print(\"the set is allow int() because int() is immutable , so thatway they print 1 =\",b)         # int()\n",
    "\n",
    "c = {10.3,12.4,19.7}\n",
    "print(\"the set is allow float() because float() is immutable , so thatway they print =\",c)       # float()\n",
    "\n",
    "d = {\"Mansi Pachauri\"}\n",
    "print(\"the set is allow string() because string() is immutable , so thatway they print =\",d)    # string()\n",
    "\n",
    "e = {(1,2,3,4)}\n",
    "print(\"the set is allow tuple() because tuple() is immutable , so thatway they print =\",e)      # tuple()\n",
    "\n",
    "\n",
    "# f = {[1,2,34,4]}                                                                              #  list[]\n",
    "print(\"the set is not allow list() because list() is mutable or set is not allow mutable value, so thatway they not print f  =\",)\n",
    "\n",
    "\n",
    "# g = {{1,2,3,4}}                                                                               # set{}\n",
    "print(\"the set is not allow set() because set() is mutable or set is not allow mutable value, so thatway they not print g  =\",)"
   ]
  },
  {
   "cell_type": "code",
   "execution_count": null,
   "metadata": {},
   "outputs": [
    {
     "name": "stdout",
     "output_type": "stream",
     "text": [
      "they remove all duplicates value in h variable because Sets cannot have two items with the same value.  {1, 2, 3, 4, 5, 7, 56, 89}\n"
     ]
    }
   ],
   "source": [
    "# set follows hashing table cocept to remove duplicacy .\n",
    "\n",
    "h = {1,1,2,3,3,4,4,5,56,7,89,56}\n",
    "print(\"they remove all duplicates value in h variable because Sets cannot have two items with the same value. \",h)\n"
   ]
  },
  {
   "cell_type": "code",
   "execution_count": null,
   "metadata": {},
   "outputs": [
    {
     "name": "stdout",
     "output_type": "stream",
     "text": [
      "{0, 1, 34, 67, 45, 78, (1,), 19, 'mansi', 'pachauri', 23, 89}\n"
     ]
    }
   ],
   "source": [
    "# set is unordered set of sequence of element . \n",
    "# set is work on ids basis , The variable whose ID is read first will be printed first.\n",
    "\n",
    "i ={1,23,34,45,67,78,89,19,(1,),0,\"mansi\", \"pachauri\"}\n",
    "print(i)"
   ]
  },
  {
   "cell_type": "code",
   "execution_count": 14,
   "metadata": {},
   "outputs": [
    {
     "name": "stdout",
     "output_type": "stream",
     "text": [
      "{32, 34, 67, 69, 23, 45}\n",
      "76 is added in set = {32, 34, 67, 69, 23, 76, 45}\n",
      "{'parul', 'priyansh', 'nmansi', 'snow'}\n",
      "If the element already exists, the add() method does not add the element. {'parul', 'priyansh', 'nmansi', 'snow', 'mansi'}\n"
     ]
    }
   ],
   "source": [
    "# SET METHODS \n",
    "\n",
    "# add()\n",
    "# Adds an element to the set.\n",
    "# If the element already exists, the add() method does not add the element. \n",
    "# syntax :- set.add(elmnt)\n",
    "# elmnt\t= The element to add to the set.\n",
    "\n",
    "j = {23,45,69,34,67,32}\n",
    "print(j)\n",
    "j.add(76)                                       # Add an element to the fruits set:\n",
    "print(\"76 is added in set =\",j)\n",
    "\n",
    "\n",
    "k ={\"nmansi\", \"priyansh\",\"parul\",\"snow\"}\n",
    "print(k)\n",
    "k.add(\"mansi\")                                  # Try to add an element that already exists:\n",
    "print(\"If the element already exists, the add() method does not add the element.\",k)"
   ]
  },
  {
   "cell_type": "code",
   "execution_count": 19,
   "metadata": {},
   "outputs": [
    {
     "name": "stdout",
     "output_type": "stream",
     "text": [
      "{1, 2, 3, 4, 5, 6, 9}\n",
      "The clear () method Remove all elements from the l set:     set()\n"
     ]
    }
   ],
   "source": [
    "# clear()\n",
    "# Removes all the elements from the set\n",
    "# syntax :- set.clear()\n",
    "l = {1,2,3,4,5,6,9}\n",
    "print(l)\n",
    "l.clear()\n",
    "print(\"The clear () method Remove all elements from the l set:    \",l)"
   ]
  },
  {
   "cell_type": "code",
   "execution_count": 32,
   "metadata": {},
   "outputs": [
    {
     "name": "stdout",
     "output_type": "stream",
     "text": [
      "{'am', 'i', 'mansi', 'pachauri'}\n",
      "This is a id of m =  2924477590656\n",
      "this is copy set of m = {'am', 'i', 'mansi', 'pachauri'}\n",
      "this is id of n =  2924477590432\n"
     ]
    }
   ],
   "source": [
    "# copy()\n",
    "# Returns a copy of the set\n",
    "# The copy() method copies the set.\n",
    "# syntax :- set.copy()\n",
    "# the copy() return diffrent ids of copt elements\n",
    "\n",
    "m = {\"i\", \"am\",\"mansi\",\"pachauri\"}\n",
    "print(m)\n",
    "print(\"This is a id of m = \" ,id(m))\n",
    "n = m.copy()                                            # Copy the fruits set:\n",
    "print(\"this is copy set of m =\",n)\n",
    "print(\"this is id of n = \",id(n))\n"
   ]
  },
  {
   "cell_type": "code",
   "execution_count": 1,
   "metadata": {},
   "outputs": [
    {
     "name": "stdout",
     "output_type": "stream",
     "text": [
      "{'banana', 'cherry'}\n",
      "{'google', 'microsoft'}\n"
     ]
    }
   ],
   "source": [
    "# difference() \n",
    "# Returns a set containing the difference between two or more sets.\n",
    "# Meaning: The returned set contains items that exist only in the first set, and not in both sets.\n",
    "# syntax = set.difference(set)\n",
    "# set = \tRequired. The set to check for differences in\n",
    "\n",
    "x = {\"apple\", \"banana\", \"cherry\"}\n",
    "y = {\"google\", \"microsoft\", \"apple\"}\n",
    "x.difference(y)                           # x = (x - y)\n",
    "print(x.difference(y))\n",
    "\n",
    "print(y.difference(x))                    # y =(y - x)\n",
    "\n"
   ]
  },
  {
   "cell_type": "code",
   "execution_count": 8,
   "metadata": {},
   "outputs": [
    {
     "name": "stdout",
     "output_type": "stream",
     "text": [
      "{2, 4}\n",
      "{0, 1, 3, 5, 7, 8}\n"
     ]
    }
   ],
   "source": [
    "# difference_update()\n",
    "# Removes the items in this set that are also included in another, specified set\n",
    "# syntax = set.difference_update(set)\n",
    "# set = Required. The set to check for differences in\n",
    "\n",
    "O = {1,2,3,4,5}\n",
    "O_2 = {0,1,3,5,7,8}\n",
    "O.difference_update(O_2)\n",
    "print(O)\n",
    "\n",
    "O_2.difference_update(O)\n",
    "print(O_2)\n"
   ]
  },
  {
   "cell_type": "code",
   "execution_count": 10,
   "metadata": {},
   "outputs": [
    {
     "name": "stdout",
     "output_type": "stream",
     "text": [
      "{'snow', 'mansi', 'siya', 'priyansh'}\n"
     ]
    }
   ],
   "source": [
    "# discard()\n",
    "# Remove the specified item\n",
    "# The discard() method removes the specified item from the set.\n",
    "# This method is different from the remove() method, because the remove() method will raise an error if the specified \n",
    " #item does not exist, and the discard() method will not.\n",
    "# syntax :- set.discard(value)\n",
    "# value\t= Required, The item to search for, and remove\n",
    "\n",
    "Name = {\"mansi\",\"priyansh\",\"snow\",\"siya\",\"radhika\"}\n",
    "Name.discard(\"radhika\")\n",
    "print(Name)\n"
   ]
  },
  {
   "cell_type": "code",
   "execution_count": 16,
   "metadata": {},
   "outputs": [
    {
     "name": "stdout",
     "output_type": "stream",
     "text": [
      "{'snow', 'mansi', 'priyansh'}\n",
      "{'snow', 'mansi', 'siya', 'priyansh', 'radhika'}\n",
      "{'c'}\n",
      "{'c', 'b', 'a'}\n"
     ]
    }
   ],
   "source": [
    "# intersection()\n",
    "# Returns a set, that is the intersection of two other sets.\n",
    "# The intersection() method returns a set that contains the similarity between two or more sets.\n",
    "# syntax:- set.intersection(set1, set2 ... etc)\n",
    "# set1\tRequired. The set to search for equal items in\n",
    "# set2 Optional.The other set to search for equal items in,You can compare as many sets you like.eparate the sets with a comma\n",
    "\n",
    "Name = {\"mansi\",\"priyansh\",\"snow\",\"siya\",\"radhika\"}        \n",
    "Name_2 = {\"mansi\",\"jk\",\"priyansh\" ,\"nishu\",\"snow\",}\n",
    "print(Name.intersection(Name_2))                          # Return a set that contains the items that exist in both set.\n",
    "print(Name)\n",
    "\n",
    "x = {\"a\", \"b\", \"c\"}\n",
    "y = {\"c\", \"d\", \"e\"}                \n",
    "z = {\"f\", \"g\", \"c\"}\n",
    "result = x.intersection(y, z)               # Compare 3 sets, and return a set with items that is present in all 3 sets:\n",
    "print(result)\n",
    "print(x)\n"
   ]
  },
  {
   "cell_type": "code",
   "execution_count": 26,
   "metadata": {},
   "outputs": [
    {
     "name": "stdout",
     "output_type": "stream",
     "text": [
      "{'snow', 'mansi', 'priyansh'}\n",
      "{'c'}\n",
      "{'c', 'g', 'f'}\n"
     ]
    }
   ],
   "source": [
    "# intersection_update()\n",
    "# Removes the items in this set that are not present in other, specified set(s)\n",
    "# The intersection_update() method is different from the intersection() method, because the intersection() method \n",
    "#returns a new set, without the unwanted items, and the intersection_update() method removes the unwanted items \n",
    "#from the original set.\n",
    " \n",
    "Name_3 = {\"mansi\",\"priyansh\",\"snow\",\"siya\",\"radhika\"}        \n",
    "Name_4 = {\"mansi\",\"jk\",\"priyansh\" ,\"nishu\",\"snow\",}\n",
    "Name_3.intersection_update(Name_4)                         # Return a set that contains the items that exist in both set.\n",
    "print(Name_3)\n",
    "\n",
    "# Compare 3 sets, and return a set with items that is present in all 3 sets:\n",
    "\n",
    "x = {\"a\", \"b\", \"c\"}\n",
    "y = {\"c\", \"d\", \"e\"}\n",
    "z = {\"f\", \"g\", \"c\"}\n",
    "x.intersection_update(y, z)\n",
    "print(x)\n",
    "print(z)\n"
   ]
  },
  {
   "cell_type": "code",
   "execution_count": 70,
   "metadata": {},
   "outputs": [
    {
     "name": "stdout",
     "output_type": "stream",
     "text": [
      "False\n",
      "True\n"
     ]
    }
   ],
   "source": [
    "# isdisjoint()\n",
    "# Returns whether two sets have a intersection or not\n",
    "# The isdisjoint() method returns True if none of the items are present in both sets, otherwise it returns False.\n",
    "# syntax :- set.isdisjoint(set)\n",
    "# set\tRequired. The set to search for equal items in\n",
    "\n",
    "w1 = {1,2,3}\n",
    "w2 = {4,2,1}\n",
    "w3 = {7,8,9}\n",
    "w = w1.isdisjoint(w2)\n",
    "print(w)\n",
    "\n",
    "w0 = w3.isdisjoint(w1)\n",
    "print(w0)"
   ]
  },
  {
   "cell_type": "code",
   "execution_count": 32,
   "metadata": {},
   "outputs": [
    {
     "name": "stdout",
     "output_type": "stream",
     "text": [
      "{(1,), 6, 7}\n",
      "{1, 2, 3, 4, 5, 6, 7, 'mansi', (1, 2, 3), (1,)}\n"
     ]
    }
   ],
   "source": [
    "# update()\n",
    "# The update() method updates the current set, by adding items from another set (or any other iterable).\n",
    "# syntax :- set.update(set1,set2,set3,.....etc)\n",
    "# set = Required. The iterable insert into the current set\n",
    "\n",
    "p = {1,2,3}\n",
    "P2 = {4,5}\n",
    "P3 = {6,7,(1,)}\n",
    "P4 = {\"mansi\",(1,2,3)}\n",
    "print(P3)\n",
    "p.update(p,P2,P3,P4)\n",
    "print(p)"
   ]
  },
  {
   "cell_type": "code",
   "execution_count": 39,
   "metadata": {},
   "outputs": [
    {
     "name": "stdout",
     "output_type": "stream",
     "text": [
      "{1, 4, 6, 7}\n",
      "{1, 2, 3, 4}\n",
      "{2, 3, 6, 7}\n"
     ]
    }
   ],
   "source": [
    "#  symmetric_difference()\n",
    "# Returns a set with the symmetric differences of two sets\n",
    "# The symmetric_difference() method returns a set that contains all items from both set, but not the items that are \n",
    "#present in both sets.\n",
    "# Syntax = set.symmetric_difference(set)\n",
    "\n",
    "Q = {1,2,3,4}\n",
    "Q2 = {2,3,6,7}\n",
    "print(Q.symmetric_difference(Q2))\n",
    "print(Q)\n",
    "print(Q2)"
   ]
  },
  {
   "cell_type": "code",
   "execution_count": 6,
   "metadata": {},
   "outputs": [
    {
     "name": "stdout",
     "output_type": "stream",
     "text": [
      "None\n",
      "{1, 4, 6, 7}\n",
      "{2, 3, 6, 7}\n"
     ]
    }
   ],
   "source": [
    "# symmetric_difference_update()\n",
    "# inserts the symmetric differences from this set and another\n",
    "# The symmetric_difference_update() method updates the original set by removing items that are present in both sets, \n",
    "#and inserting the other items.\n",
    "# syntax :- set.symmetric_difference_update(set)\n",
    "R = {1,2,3,4}\n",
    "R2 = {2,3,6,7}\n",
    "print(R.symmetric_difference_update(R2))\n",
    "print(R)\n",
    "print(R2)\n"
   ]
  },
  {
   "cell_type": "code",
   "execution_count": 47,
   "metadata": {},
   "outputs": [
    {
     "name": "stdout",
     "output_type": "stream",
     "text": [
      "{5, 6, 7, 8, 9}\n",
      "{3, 4, 5, 6, 7, 8, 9}\n"
     ]
    }
   ],
   "source": [
    "# union()\n",
    "# The union() method returns a set that contains all items from the original set, and all items from the specified set(s). \n",
    "# syntax:- set.union(set1, set2...)\n",
    "# The union of two set or more set of all distinct elements present in all the set \n",
    "s1 = {9,8,7}\n",
    "s2 = {7,6,5}\n",
    "s3 = {5,4,3}\n",
    "s4 = s1.union(s2)\n",
    "s5 = s1.union(s3,s2)\n",
    "print(s4)\n",
    "print(s5)\n",
    "\n",
    "   "
   ]
  },
  {
   "cell_type": "code",
   "execution_count": 54,
   "metadata": {},
   "outputs": [
    {
     "name": "stdout",
     "output_type": "stream",
     "text": [
      "98\n",
      "1\n",
      "{43, 76, 54, 23, 56, 90}\n"
     ]
    }
   ],
   "source": [
    "# pop()\n",
    "# The pop() method removes a random item from the set.\n",
    "# syntax :- set.pop()\n",
    "# The pop() method returns removed value.\n",
    "t =  {1,23,43,54,56,76,98,90}\n",
    "t2 = t.pop()\n",
    "t1 = t.pop()\n",
    "print(t1)\n",
    "print(t2)\n",
    "print(t)\n"
   ]
  },
  {
   "cell_type": "code",
   "execution_count": 59,
   "metadata": {},
   "outputs": [
    {
     "name": "stdout",
     "output_type": "stream",
     "text": [
      "True\n",
      "False\n"
     ]
    }
   ],
   "source": [
    "# issubset() \n",
    "# The issubset() method returns True if all items in the set exists in the specified set, otherwise it returns False.\n",
    "# syntax:- set.issubset(set)\n",
    "\n",
    "u1 = {\"a\", \"b\", \"c\"}\n",
    "u2 = {\"f\", \"e\", \"d\", \"c\", \"b\", \"a\"}\n",
    "u = u1.issubset(u2)                             # Return True if all items in set x are present in set y:\n",
    "print(u)\n",
    "\n",
    "v1 = {\"a\", \"b\", \"c\"}\n",
    "v2= {\"f\", \"e\", \"d\", \"c\", \"b\"}\n",
    "v = v1.issubset(v2)\n",
    "print(v)\n",
    "\n",
    "\n"
   ]
  },
  {
   "cell_type": "code",
   "execution_count": 67,
   "metadata": {},
   "outputs": [
    {
     "name": "stdout",
     "output_type": "stream",
     "text": [
      "False\n",
      "True\n"
     ]
    }
   ],
   "source": [
    "# issuperset() \n",
    "# The issuperset() returns True if all items in the specified set exists in the original set,otherwise it returns False.\n",
    "# syntax:- set.issuperset(set)\n",
    "u1 = {\"a\", \"b\", \"c\"}\n",
    "u2 = {\"f\", \"e\", \"d\", \"c\", \"b\", \"a\"}\n",
    "u = u1.issuperset(u2)                             # Return False if not all items in set u2 are present in set u1:\n",
    "print(u)\n",
    "\n",
    "v1 = {\"e\", \"b\", \"c\"}\n",
    "v2= {\"f\", \"e\", \"d\", \"c\", \"b\"}\n",
    "v = v2.issuperset(v1)               # Return True if all items set v2 are present in set v1\n",
    "print(v)\n"
   ]
  },
  {
   "cell_type": "code",
   "execution_count": null,
   "metadata": {},
   "outputs": [],
   "source": []
  }
 ],
 "metadata": {
  "kernelspec": {
   "display_name": "Python 3",
   "language": "python",
   "name": "python3"
  },
  "language_info": {
   "codemirror_mode": {
    "name": "ipython",
    "version": 3
   },
   "file_extension": ".py",
   "mimetype": "text/x-python",
   "name": "python",
   "nbconvert_exporter": "python",
   "pygments_lexer": "ipython3",
   "version": "3.9.7"
  },
  "orig_nbformat": 4
 },
 "nbformat": 4,
 "nbformat_minor": 2
}
