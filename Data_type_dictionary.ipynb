{
 "cells": [
  {
   "cell_type": "code",
   "execution_count": 10,
   "metadata": {},
   "outputs": [],
   "source": [
    "# dictionary()\n",
    "# dictionary constructor is  dict(). \n",
    "# dictionary literal is {}.\n",
    "# dictionary is a combination of key:value pair .\n",
    "# A dictionary is a collection which is ordered*, changeable , immutable datatype(hashable) and do not allow duplicates.\n",
    "# A dictionary key must be immutable datatype(hashable).\n",
    "# dictionary value they  may or may not be immutable .\n",
    "# dictionary doesn't support indexing; there are diffrent way to support indexing.\n",
    "# dictionary doesn't support slicing.\n",
    "# dictionary has various method.\n",
    "# Dictionaries are written with curly brackets, and have keys and values:\n",
    "  \n"
   ]
  },
  {
   "cell_type": "code",
   "execution_count": 11,
   "metadata": {},
   "outputs": [
    {
     "name": "stdout",
     "output_type": "stream",
     "text": [
      "{} <class 'dict'>\n"
     ]
    }
   ],
   "source": [
    "# dictionary constructor is  dict().\n",
    "\n",
    "q=dict()\n",
    "print(q,type(q))\n"
   ]
  },
  {
   "cell_type": "code",
   "execution_count": 12,
   "metadata": {},
   "outputs": [
    {
     "name": "stdout",
     "output_type": "stream",
     "text": [
      "{} <class 'dict'>\n"
     ]
    }
   ],
   "source": [
    "\n",
    "# dictionary literal is {}.\n",
    "\n",
    "w = {}\n",
    "print(w,type(w))"
   ]
  },
  {
   "cell_type": "code",
   "execution_count": 13,
   "metadata": {},
   "outputs": [
    {
     "name": "stdout",
     "output_type": "stream",
     "text": [
      "{1: 'mansi', 2: 'priyansh', 3: 'snow', 4: 'chiku', 5: 'siya'}\n"
     ]
    }
   ],
   "source": [
    "e={1:\"mansi\",2:\"priyansh\",3:\"snow\",4:\"chiku\",5:\"siya\"}\n",
    "print(e)\n"
   ]
  },
  {
   "cell_type": "code",
   "execution_count": 14,
   "metadata": {},
   "outputs": [
    {
     "name": "stdout",
     "output_type": "stream",
     "text": [
      "priyansh\n",
      "siya\n"
     ]
    }
   ],
   "source": [
    "# dictionary doesn't support indexing; there are diffrent way to support indexing.\n",
    "# they call a key ,so they print key's value \n",
    "print(e[2])\n",
    "print(e[5])\n"
   ]
  },
  {
   "cell_type": "code",
   "execution_count": 15,
   "metadata": {},
   "outputs": [
    {
     "name": "stdout",
     "output_type": "stream",
     "text": [
      "{(1, 2, 3, 4): 'mansi', 'chiku': 'misthi', 1.1: 'snow', 1: 'priyanh'}\n",
      "mansi\n",
      "misthi\n"
     ]
    }
   ],
   "source": [
    "r = {(1,2,3,4):\"mansi\",\"chiku\":\"misthi\",1.1:\"snow\",1:\"priyanh\"}\n",
    "print(r)\n",
    "print(r[(1,2,3,4)])\n",
    "print(r[\"chiku\"])\n"
   ]
  },
  {
   "cell_type": "code",
   "execution_count": 16,
   "metadata": {},
   "outputs": [
    {
     "ename": "TypeError",
     "evalue": "unhashable type: 'set'",
     "output_type": "error",
     "traceback": [
      "\u001b[1;31m---------------------------------------------------------------------------\u001b[0m",
      "\u001b[1;31mTypeError\u001b[0m                                 Traceback (most recent call last)",
      "Cell \u001b[1;32mIn[16], line 4\u001b[0m\n\u001b[0;32m      1\u001b[0m \u001b[39m# mutable data type never act as a key :\u001b[39;00m\n\u001b[0;32m      2\u001b[0m \u001b[39m# set is mutable data type \u001b[39;00m\n\u001b[1;32m----> 4\u001b[0m t \u001b[39m=\u001b[39m {{\u001b[39m1\u001b[39m,\u001b[39m2\u001b[39m,\u001b[39m3\u001b[39m}:\u001b[39m\"\u001b[39m\u001b[39mmansi\u001b[39m\u001b[39m\"\u001b[39m}\n\u001b[0;32m      5\u001b[0m \u001b[39mprint\u001b[39m({\u001b[39m1\u001b[39m,\u001b[39m2\u001b[39m,\u001b[39m3\u001b[39m})\n",
      "\u001b[1;31mTypeError\u001b[0m: unhashable type: 'set'"
     ]
    }
   ],
   "source": [
    "# mutable data type never act as a key :\n",
    "# set is mutable data type \n",
    "\n",
    "t = {{1,2,3}:\"mansi\"}\n",
    "print({1,2,3})"
   ]
  },
  {
   "cell_type": "code",
   "execution_count": 17,
   "metadata": {},
   "outputs": [
    {
     "name": "stdout",
     "output_type": "stream",
     "text": [
      "{1: {'Name': 'Mansi Pachauri', 'Mother Name': 'Geeta Pachauri', 'Father Name': 'Ravi Pachauri'}, 2: {'Name': 'Priyansh Pachauri', 'Mother Name': 'Geeta Pachauri', 'Father Name': 'Ravi Pachauri'}}\n"
     ]
    }
   ],
   "source": [
    "# nested dictionary:\n",
    "y= {1:{\"Name\":\"Mansi Pachauri\",\"Mother Name\":\"Geeta Pachauri\",\"Father Name\":\"Ravi Pachauri\"},2:{\"Name\":\"Priyansh Pachauri\",\"Mother Name\":\"Geeta Pachauri\",\"Father Name\":\"Ravi Pachauri\"}}\n",
    "print(y)"
   ]
  },
  {
   "cell_type": "code",
   "execution_count": 18,
   "metadata": {},
   "outputs": [
    {
     "name": "stdout",
     "output_type": "stream",
     "text": [
      "{'Name': 'Mansi Pachauri', 'Mother Name': 'Geeta Pachauri', 'Father Name': 'Ravi Pachauri'}\n",
      "{'Name': 'Priyansh Pachauri', 'Mother Name': 'Geeta Pachauri', 'Father Name': 'Ravi Pachauri'}\n",
      "Mansi Pachauri\n"
     ]
    }
   ],
   "source": [
    "print(y[1])\n",
    "print(y[2])\n",
    "print(y[1][\"Name\"])"
   ]
  },
  {
   "cell_type": "code",
   "execution_count": 19,
   "metadata": {},
   "outputs": [
    {
     "name": "stdout",
     "output_type": "stream",
     "text": [
      "{1: 'volvo', 2: 'tata'}\n",
      "volvo\n",
      "tata\n",
      "{1: 'volvo', 2: 'tata', 3: 'BMW', 4: 'kia'} ,the type of u is = <class 'dict'> ,the id of u 2198552474176\n"
     ]
    }
   ],
   "source": [
    "# dictionary method:-\n",
    "# update()\n",
    "# The update() method inserts the specified items to the dictionary.\n",
    "# syntax:- dictionary.update(iterable)\n",
    "# iterable = A dictionary or an iterable object with key value pairs, that will be inserted to the dictionary\n",
    "u = {1:\"volvo\",2:\"tata\"}\n",
    "print(u)\n",
    "print(u[1])\n",
    "print(u[2])\n",
    "u.update({3:\"BMW\",4:\"kia\"})                # Insert an item to the dictionary:\n",
    "print(u,\",the type of u is =\",type(u),\",the id of u\",id(u))\n",
    "\n",
    "\n",
    "\n"
   ]
  },
  {
   "cell_type": "code",
   "execution_count": 20,
   "metadata": {},
   "outputs": [
    {
     "name": "stdout",
     "output_type": "stream",
     "text": [
      "{1: 'apple', 'aam': 'mango', (2, 3): 'blueberry', 11.2: 'papaya'}\n"
     ]
    },
    {
     "data": {
      "text/plain": [
       "dict_keys([1, 'aam', (2, 3), 11.2])"
      ]
     },
     "execution_count": 20,
     "metadata": {},
     "output_type": "execute_result"
    }
   ],
   "source": [
    "# keys()\n",
    "# The keys() method returns a view object. The view object contains the keys of the dictionary, as a list.\n",
    "# syntax:- dictionary.keys()\n",
    "i= {1:\"apple\",\"aam\":\"mango\"}\n",
    "i.update({(2,3):\"blueberry\",11.2:\"papaya\"})\n",
    "print(i)\n",
    "i.keys()                   # Return the keys as alist form:"
   ]
  },
  {
   "cell_type": "code",
   "execution_count": 21,
   "metadata": {},
   "outputs": [
    {
     "name": "stdout",
     "output_type": "stream",
     "text": [
      "{2: '2', 4: '2*2', 6: '2*3', 8: '2*4'}\n"
     ]
    },
    {
     "data": {
      "text/plain": [
       "dict_values(['2', '2*2', '2*3', '2*4'])"
      ]
     },
     "execution_count": 21,
     "metadata": {},
     "output_type": "execute_result"
    }
   ],
   "source": [
    "# value()\n",
    "# The values() method returns a view object. The view object contains the values of the dictionary, as a list. \n",
    "# syntax:- dictionary.values()\n",
    "o= {2:\"2\",4:\"2*2\",6:\"2*3\",8:\"2*4\"}\n",
    "print(o)\n",
    "o.values()                               # Return the values as a list form\n",
    "\n"
   ]
  },
  {
   "cell_type": "code",
   "execution_count": 22,
   "metadata": {},
   "outputs": [
    {
     "name": "stdout",
     "output_type": "stream",
     "text": [
      "{10: '2*5', 12: '2*6', 14: '2*7', 16: '2*8', 18: '2*9'}\n",
      "The ID of 'P' is =  2198552511488\n",
      "{10: '2*5', 12: '2*6', 14: '2*7', 16: '2*8', 18: '2*9'}\n",
      "The ID of 'a' is =  2198552511488\n",
      "{10: '2*5', 12: '2*6', 14: '2*7', 16: '2*8', 18: '2*9', 20: '2*10'} The ID of 'a' is =  2198552511488\n",
      "{10: '2*5', 12: '2*6', 14: '2*7', 16: '2*8', 18: '2*9', 20: '2*10'} The ID of 'p' is =  2198552511488\n",
      "{10: '2*5', 12: '2*6', 14: '2*7', 16: '2*8', 18: '2*9', 20: '2*10'} The ID of 's' is =  2198552511360\n"
     ]
    }
   ],
   "source": [
    "# copy()\n",
    "# The copy() method returns a copy of the specified dictionary.\n",
    "# syntax:- dictionary.copy()\n",
    "p = {10:\"2*5\",12:\"2*6\",14:\"2*7\",16:\"2*8\",18:\"2*9\"}\n",
    "print(p)\n",
    "print(\"The ID of 'P' is = \",id(p))\n",
    "a = p\n",
    "print(a)\n",
    "print(\"The ID of 'a' is = \",id(a))\n",
    "a.update({20:\"2*10\"})\n",
    "print(a,\"The ID of 'a' is = \",id(a))\n",
    "print(p,\"The ID of 'p' is = \",id(p))\n",
    "s = p.copy()                                            # s is a diffrent id from p and a\n",
    "print(s,\"The ID of 's' is = \",id(s))\n"
   ]
  },
  {
   "cell_type": "code",
   "execution_count": 24,
   "metadata": {},
   "outputs": [
    {
     "name": "stdout",
     "output_type": "stream",
     "text": [
      "{1: 'mansi', 2: 'priyansh', 3: 'snow', 4: 'chiku', 5: 'siya', 6: 'parul'}\n",
      "priyansh\n",
      "None\n",
      "This value is not available\n",
      "mansi\n",
      "None\n"
     ]
    }
   ],
   "source": [
    "# get()\n",
    "# The get() method returns the value of the item with the specified key. \n",
    "# syntax:- dictionary.get(keyname, value)\n",
    "# keyname =\tRequired. The keyname of the item you want to return the value from\n",
    "# value  =\tOptional. A value to return if the specified key does not exist.\n",
    "\n",
    "\n",
    "d = {1:\"mansi\",2:\"priyansh\",3:\"snow\",4:\"chiku\",5:\"siya\",6:\"parul\"}\n",
    "print(d)\n",
    "print(d.get(2))                                         # they get the value of  2'no key\n",
    "print(d.get(7))                                         # if the key is not exist in dict(), so they didn't give any error .\n",
    "print(d.get(8,\"This value is not available\"))   \n",
    "print(d.get(1,\"This value is not available\"))\n",
    "print(d.get(\"snow\"))\n"
   ]
  },
  {
   "cell_type": "code",
   "execution_count": 25,
   "metadata": {},
   "outputs": [
    {
     "name": "stdout",
     "output_type": "stream",
     "text": [
      "{1: 'rohit', 2: 'priyansh', 3: 'yogesh', 4: 'chiku', 5: 'gaura', 6: 'mohit'}\n",
      "chiku\n"
     ]
    }
   ],
   "source": [
    "# pop()\n",
    "# Removes the element with the specified key\n",
    "# The value of the removed item is the return value of the pop() method, see example below\n",
    "# syntax:- dictionary.pop(keyname, defaultvalue)\n",
    "\n",
    "f = {1:\"rohit\",2:\"priyansh\",3:\"yogesh\",4:\"chiku\",5:\"gaura\",6:\"mohit\"}\n",
    "print(f)\n",
    "print(f.pop(4))                     # Remove \"chiku\" from the dictionary:\n"
   ]
  },
  {
   "cell_type": "code",
   "execution_count": 26,
   "metadata": {},
   "outputs": [
    {
     "name": "stdout",
     "output_type": "stream",
     "text": [
      "{2: '2', 4: '2*2', 6: '2*3', 8: '2*4', 10: '2*5', 12: '2*6', 14: '2*7', 16: '2*8', 18: '2*9'}\n",
      "(18, '2*9')\n",
      "{2: '2', 4: '2*2', 6: '2*3', 8: '2*4', 10: '2*5', 12: '2*6', 14: '2*7', 16: '2*8'}\n"
     ]
    }
   ],
   "source": [
    "# popitem()\n",
    "# The popitem() method removes the item that was last inserted into the dictionary.\n",
    "# The removed item is the return value of the popitem() method, as a tuple, see example below.\n",
    "# The removed item is the return value of the popitem() method, as a tuple, see example below.\n",
    "# syntax:- dictionary.popitem()\n",
    "\n",
    "g = {2:\"2\",4:\"2*2\",6:\"2*3\",8:\"2*4\",10:\"2*5\",12:\"2*6\",14:\"2*7\",16:\"2*8\",18:\"2*9\"}\n",
    "print(g)\n",
    "print(g.popitem())                         # Remove the last item from the dictionary:\n",
    "print(g)"
   ]
  },
  {
   "cell_type": "code",
   "execution_count": 27,
   "metadata": {},
   "outputs": [
    {
     "name": "stdout",
     "output_type": "stream",
     "text": [
      "{1: 'volvo', 2: 'tata', 3: 'BMW'}\n",
      "dict_items([(1, 'volvo'), (2, 'tata'), (3, 'BMW')])\n"
     ]
    }
   ],
   "source": [
    "# item()\n",
    "# The items() method returns a view object. The view object contains the key-value pairs of the dictionary, as tuples in a list. \n",
    "# syntax:- dictionary.items()\n",
    "h = {1:\"volvo\",2:\"tata\",3:\"BMW\"}\n",
    "print(h)\n",
    "print(h.items())"
   ]
  },
  {
   "cell_type": "code",
   "execution_count": 30,
   "metadata": {},
   "outputs": [
    {
     "name": "stdout",
     "output_type": "stream",
     "text": [
      "{1: 'mansi', 2: 'priyansh', 3: 'snow'}\n",
      "{}\n"
     ]
    }
   ],
   "source": [
    "# clear()\n",
    "# The clear() method removes all the elements from a dictionary.\n",
    "# syntax:- dictionary.clear()\n",
    "j = {1:\"mansi\",2:\"priyansh\",3:\"snow\"}\n",
    "print(j)\n",
    "j.clear()\n",
    "print(j)\n"
   ]
  },
  {
   "cell_type": "code",
   "execution_count": 49,
   "metadata": {},
   "outputs": [
    {
     "name": "stdout",
     "output_type": "stream",
     "text": [
      "{} <class 'dict'>\n",
      "{1: 'none', 2: 'none', 3: 'none', 4: 'none', 5: 'none'}\n",
      "{1: 'mansi', 2: 'none', 3: 'none', 4: 'none', 5: 'none'}\n",
      "{1: 'mansi', 2: 'none', 3: 'none', 4: 'none', 5: 'priyansh'}\n",
      "{'key1': None, 'key2': None, 'key3': None}\n"
     ]
    }
   ],
   "source": [
    "# fromkeys()\n",
    "# The fromkeys() method returns a dictionary with the specified keys and the specified value.\n",
    "# syntax:- dict.fromkeys(keys, value)\n",
    "# keys = Required. An iterable specifying the keys of the new dictionary\n",
    "# value\t= Optional. The value for all keys. Default value is None\n",
    "k= {} \n",
    "print(k,type(k)) \n",
    "k= k.fromkeys([1,2,3,4,5],\"none\")       # Create a dictionary with 5 keys, all with the value \"none\":\n",
    "print(k)\n",
    "k[1]= \"mansi\"\n",
    "print(k)\n",
    "k[5] = \"priyansh\"\n",
    "print(k)\n",
    "\n",
    "z = ('key1', 'key2', 'key3')             # Same example as above, but without specifying the value:\n",
    "l = dict.fromkeys(z)\n",
    "print(l)\n",
    "\n",
    "\n"
   ]
  },
  {
   "cell_type": "code",
   "execution_count": 52,
   "metadata": {},
   "outputs": [
    {
     "name": "stdout",
     "output_type": "stream",
     "text": [
      "Mustang\n",
      "white\n",
      "{'brand': 'Ford', 'model': 'Mustang', 'year': 1964, 'color': 'white'}\n"
     ]
    }
   ],
   "source": [
    "# setdefault()\n",
    "# Returns the value of the specified key. If the key does not exist: insert the key, with the specified value\n",
    "# Syntax:- dictionary.setdefault(keyname, value)\n",
    "#  keyname\tRequired. The keyname of the item you want to return the value from\n",
    "# value\tOptional.\n",
    "# keyname\tRequired. The keyname of the item you want to return the value from\n",
    "# value\tOptional.If the key exist, this parameter has no effect, If the key does not exist, this value becomes the key's value\n",
    "# Default value None\n",
    "car = {\n",
    "  \"brand\": \"Ford\",\n",
    "  \"model\": \"Mustang\",\n",
    "  \"year\": 1964\n",
    "}\n",
    "x = car.setdefault(\"model\", \"Bronco\")    # Get the value of the \"model\" item:\n",
    "print(x)\n",
    "\n",
    "car = {\n",
    "  \"brand\": \"Ford\",\n",
    "  \"model\": \"Mustang\",\n",
    "  \"year\": 1964\n",
    "}\n",
    "x = car.setdefault(\"color\", \"white\")      # Get the value of the \"color\" item, if the \"color\" item does not exist, insert \"color\" with the value \"white\":\n",
    "print(x)\n",
    "print(car)"
   ]
  },
  {
   "cell_type": "code",
   "execution_count": null,
   "metadata": {},
   "outputs": [],
   "source": []
  }
 ],
 "metadata": {
  "kernelspec": {
   "display_name": "Python 3",
   "language": "python",
   "name": "python3"
  },
  "language_info": {
   "codemirror_mode": {
    "name": "ipython",
    "version": 3
   },
   "file_extension": ".py",
   "mimetype": "text/x-python",
   "name": "python",
   "nbconvert_exporter": "python",
   "pygments_lexer": "ipython3",
   "version": "3.9.7"
  },
  "orig_nbformat": 4
 },
 "nbformat": 4,
 "nbformat_minor": 2
}
