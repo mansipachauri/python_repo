{
 "cells": [
  {
   "cell_type": "code",
   "execution_count": 3,
   "metadata": {},
   "outputs": [
    {
     "name": "stdout",
     "output_type": "stream",
     "text": [
      "hello world\n"
     ]
    }
   ],
   "source": [
    "print(\"hello world\")"
   ]
  },
  {
   "cell_type": "code",
   "execution_count": 4,
   "metadata": {},
   "outputs": [
    {
     "name": "stdout",
     "output_type": "stream",
     "text": [
      "this is mansi \n"
     ]
    }
   ],
   "source": [
    "print(\"this is mansi \")"
   ]
  },
  {
   "cell_type": "code",
   "execution_count": 5,
   "metadata": {},
   "outputs": [
    {
     "name": "stdout",
     "output_type": "stream",
     "text": [
      "hello world\n",
      "hello world\n",
      "when we use triple double quotes for print their is no error \n",
      "when we use triple single quotes for print their is no error\n"
     ]
    }
   ],
   "source": [
    "print(\"hello world\")\n",
    "print('hello world')\n",
    "print(\"\"\"when we use triple double quotes for print their is no error \"\"\")  # use print(\"\"\"\"\"\")\n",
    "print('''when we use triple single quotes for print their is no error''')   # use print('''''')"
   ]
  },
  {
   "cell_type": "code",
   "execution_count": 6,
   "metadata": {},
   "outputs": [
    {
     "name": "stdout",
     "output_type": "stream",
     "text": [
      "         This is Mansi Pachauri \n",
      "         I had done MCA from AKTU\n",
      "         I have 1 year exprience as a 'assocoate project manager'\n",
      "         \n",
      "         Currently i am working  as a  DATA ANALYST \n",
      "         My skill are PYTHON , SQL , MS EXCEL , ML , AI , ect...\n",
      "         And i know Basic Power BI  \n"
     ]
    }
   ],
   "source": [
    "print(\"\"\"         This is Mansi Pachauri \n",
    "         I had done MCA from AKTU\n",
    "         I have 1 year exprience as a 'assocoate project manager'\n",
    "         \"\"\")                                                           \n",
    "print('''         Currently i am working  as a  DATA ANALYST \n",
    "         My skill are PYTHON , SQL , MS EXCEL , ML , AI , ect...\n",
    "         And i know Basic Power BI  ''')"
   ]
  },
  {
   "cell_type": "code",
   "execution_count": 18,
   "metadata": {},
   "outputs": [
    {
     "data": {
      "text/plain": [
       "'6789'"
      ]
     },
     "execution_count": 18,
     "metadata": {},
     "output_type": "execute_result"
    }
   ],
   "source": [
    "input(\"kindly enter your 4 digit no. pin \")\n",
    "input(\"valid 4 digit no. \")"
   ]
  },
  {
   "cell_type": "code",
   "execution_count": 8,
   "metadata": {},
   "outputs": [
    {
     "name": "stdout",
     "output_type": "stream",
     "text": [
      "apple , mango , papaya\n",
      "apple mango banana\n",
      "apple mango banana\n",
      "appleINDIAmangoINDIAbanana\n"
     ]
    }
   ],
   "source": [
    "print(\"apple , mango , papaya\")\n",
    "print(\"apple\" , \"mango\" , \"banana\")\n",
    "print(\"apple\" , \"mango\" , \"banana\", sep=\" \")      #separator operater \n",
    "print(\"apple\" , \"mango\" , \"banana\", sep=\"INDIA\")  #separator operater sep=\"INDIA\"\n"
   ]
  },
  {
   "cell_type": "code",
   "execution_count": 19,
   "metadata": {},
   "outputs": [
    {
     "data": {
      "text/plain": [
       "'6789'"
      ]
     },
     "execution_count": 19,
     "metadata": {},
     "output_type": "execute_result"
    }
   ],
   "source": [
    "input(\"valid 4 digit no. \")"
   ]
  },
  {
   "cell_type": "code",
   "execution_count": 10,
   "metadata": {},
   "outputs": [
    {
     "name": "stdout",
     "output_type": "stream",
     "text": [
      "apple mango banana ###mangoindiaappleindiapineapple\n"
     ]
    }
   ],
   "source": [
    "print(\"apple\" , \"mango\" , \"banana \" ,end=\"###\")                  # end operater (end operater is equal to /n )\n",
    "print(\"mango\" , \"apple\" , \"pineapple\" , sep=\"india\")              # end operater end=\"$$$\""
   ]
  },
  {
   "cell_type": "code",
   "execution_count": 11,
   "metadata": {},
   "outputs": [
    {
     "name": "stdout",
     "output_type": "stream",
     "text": [
      "This is Ma\n",
      "si\n",
      "This is \\n Mansi\n"
     ]
    }
   ],
   "source": [
    "print (\"This is Ma\\nsi\")                            # \\n is use to  break the line \n",
    "print(\"This is \\\\n Mansi\")                          # one \\ is hide to other \\n = \\\\n "
   ]
  },
  {
   "cell_type": "code",
   "execution_count": 12,
   "metadata": {},
   "outputs": [
    {
     "name": "stdout",
     "output_type": "stream",
     "text": [
      "apple \n",
      "india banana \n",
      "india pineapple india"
     ]
    }
   ],
   "source": [
    "# apple\n",
    "# india banana\n",
    "# india pineapple india \n",
    "print(\"apple\",\"banana\",\"pineapple\",sep=\" \\nindia \", end=\" india\" )"
   ]
  },
  {
   "cell_type": "code",
   "execution_count": 13,
   "metadata": {},
   "outputs": [
    {
     "name": "stdout",
     "output_type": "stream",
     "text": [
      " this is mansi \n",
      " this is \"mansi\" \n"
     ]
    }
   ],
   "source": [
    "print(\" this is mansi \")\n",
    "#print(\" this is \"mansi\" \") #cases\n",
    "print(' this is \"mansi\" ')"
   ]
  },
  {
   "cell_type": "code",
   "execution_count": 14,
   "metadata": {},
   "outputs": [
    {
     "name": "stdout",
     "output_type": "stream",
     "text": [
      " this is mansi's laptop \n",
      " this is mansi's laptop \n"
     ]
    }
   ],
   "source": [
    "#print(' this is mansi's laptop ')          #cases\n",
    "print(\" this is mansi's laptop \")\n",
    "print(' this is mansi\\'s laptop ')          # when we use '\\' they hide next other special character"
   ]
  },
  {
   "cell_type": "code",
   "execution_count": 15,
   "metadata": {},
   "outputs": [
    {
     "name": "stdout",
     "output_type": "stream",
     "text": [
      "This is \taboo\n",
      "This is use for \tab\n"
     ]
    }
   ],
   "source": [
    "print(\"This is \\taboo\")                          # when we use '\\t' they give uncoutable space\n",
    "print (\"This is use for \\tab\")"
   ]
  },
  {
   "cell_type": "code",
   "execution_count": 16,
   "metadata": {},
   "outputs": [
    {
     "name": "stdout",
     "output_type": "stream",
     "text": [
      "This is waterottle \n",
      "This is best baloon\n"
     ]
    }
   ],
   "source": [
    "print(\"This is water \\bottle \")         #  '\\b'represents the backspace character\n",
    "print(\"This is best m\\bbaloon\")"
   ]
  },
  {
   "cell_type": "code",
   "execution_count": 1,
   "metadata": {},
   "outputs": [
    {
     "name": "stdout",
     "output_type": "stream",
     "text": [
      "https://mail.google.com/mail/u/0/#inbox/FMfcgzGsmWwnPQxhSphCBLxrRzJjBflZ\n",
      " C:\\Program\\Files\\Google\n",
      " this is \\n ma\\nsi\n"
     ]
    }
   ],
   "source": [
    "print(\"https:mail.google.com/mail/u/0/#inbox/FMfcgzGsmWwnPQxhSphCBLxrRzJjBflZ\")         # 'r' when we want same line to use 'r' is a raw data \n",
    "print(r\" C:\\Program\\Files\\Google\")\n",
    "print(r\" this is \\n ma\\nsi\")"
   ]
  },
  {
   "cell_type": "code",
   "execution_count": null,
   "metadata": {},
   "outputs": [],
   "source": [
    " "
   ]
  }
 ],
 "metadata": {
  "kernelspec": {
   "display_name": "Python 3",
   "language": "python",
   "name": "python3"
  },
  "language_info": {
   "codemirror_mode": {
    "name": "ipython",
    "version": 3
   },
   "file_extension": ".py",
   "mimetype": "text/x-python",
   "name": "python",
   "nbconvert_exporter": "python",
   "pygments_lexer": "ipython3",
   "version": "3.9.7"
  },
  "orig_nbformat": 4
 },
 "nbformat": 4,
 "nbformat_minor": 2
}
