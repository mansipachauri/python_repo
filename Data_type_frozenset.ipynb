{
 "cells": [
  {
   "cell_type": "code",
   "execution_count": 1,
   "metadata": {},
   "outputs": [],
   "source": [
    "# frozenset()\n",
    "# frozenset() has constructor is frozenset()\n",
    "# frozenset has no literal.\n",
    "# frozenset() not allow duplicate value.\n",
    "# frozenset() is immutable (Immutable objects can not be modified after their creation. This makes immutable objects final objects.) \n",
    "# frozenset() is unordered set of squence  of character .\n",
    "# frozenset() doesn't support indexing and slicing.\n",
    "# frozenset() doesn't support concatination .\n",
    "# A frozenset contains unique values, which makes it very similar to set data type. \n"
   ]
  },
  {
   "cell_type": "code",
   "execution_count": 2,
   "metadata": {},
   "outputs": [
    {
     "name": "stdout",
     "output_type": "stream",
     "text": [
      "frozenset()\n"
     ]
    }
   ],
   "source": [
    "# frozenset() has constructor is frozenset()\n",
    "\n",
    "q = frozenset()\n",
    "print(q)"
   ]
  },
  {
   "cell_type": "code",
   "execution_count": 10,
   "metadata": {},
   "outputs": [
    {
     "name": "stdout",
     "output_type": "stream",
     "text": [
      "frozenset({1, 2, 3, 4, 5, 6, 7})\n",
      "the type of 'w' is =  <class 'frozenset'>\n",
      "the address of 'w' is =  2256899225856\n"
     ]
    }
   ],
   "source": [
    "# frozenset() not allow duplicate value.\n",
    "w = frozenset([1,1,1,1,2,3,4,1,2,3,4,5,6,7])\n",
    "print(w)\n",
    "print(\"the type of 'w' is = \",type(w))\n",
    "print(\"the address of 'w' is = \",id(w))"
   ]
  },
  {
   "cell_type": "code",
   "execution_count": 14,
   "metadata": {},
   "outputs": [
    {
     "name": "stdout",
     "output_type": "stream",
     "text": [
      "frozenset({1, 2})\n",
      "frozenset({6, 7})\n"
     ]
    }
   ],
   "source": [
    "# frozenset method\n",
    "# difference()\n",
    "# Returns a set containing the difference between two or more sets.\n",
    "# Meaning: The returned set contains items that exist only in the first set, and not in both sets.\n",
    "# syntax = frozenset.difference(frozenset)\n",
    "# set = \tRequired. The set to check for differences in\n",
    "\n",
    "e1 = frozenset([1,2,3,4,5])\n",
    "e2 = frozenset([3,4,5,6,7])\n",
    "e = e1.difference(e2)\n",
    "print(e)\n",
    "e0 = e2.difference(e1)\n",
    "print(e0)\n"
   ]
  },
  {
   "cell_type": "code",
   "execution_count": 18,
   "metadata": {},
   "outputs": [
    {
     "name": "stdout",
     "output_type": "stream",
     "text": [
      "frozenset({'rohit', 'mohit', 'parul', 'snow'})\n"
     ]
    }
   ],
   "source": [
    "#  symmetric_difference()\n",
    "# Returns a set with the symmetric differences of two sets\n",
    "# The symmetric_difference() method returns a set that contains all items from both set, but not the items that are \n",
    "#present in both sets.\n",
    "# Syntax = frozenset.symmetric_difference(frozenset)\n",
    "\n",
    "r1 = frozenset([\"mansi\",\"priyansh\",\"snow\",\"mohit\"])\n",
    "r2 = frozenset([\"mansi\",\"parul\",\"priyansh\",\"rohit\"])\n",
    "r = r1.symmetric_difference(r2)\n",
    "print(r)\n"
   ]
  },
  {
   "cell_type": "code",
   "execution_count": 21,
   "metadata": {},
   "outputs": [
    {
     "name": "stdout",
     "output_type": "stream",
     "text": [
      "frozenset({'priyansh', 'snow', 'mohit', 'mansi'})\n",
      "the address of 't1' is =  2256920779904\n",
      "frozenset({'priyansh', 'snow', 'mohit', 'mansi'})\n",
      "the address of 't' is =  2256920779904\n"
     ]
    }
   ],
   "source": [
    "# copy()\n",
    "# Returns a copy of the set\n",
    "# The copy() method copies the set.\n",
    "# syntax :- frozenset.copy()\n",
    "# the copy() return diffrent ids of copt elements.\n",
    "\n",
    "t1 = frozenset([\"mansi\",\"priyansh\",\"snow\",\"mohit\"])\n",
    "t = t1.copy()\n",
    "print(t1)\n",
    "print(\"the address of 't1' is = \",id(t1))\n",
    "print(t)\n",
    "print(\"the address of 't' is = \",id(t))"
   ]
  },
  {
   "cell_type": "code",
   "execution_count": 22,
   "metadata": {},
   "outputs": [
    {
     "name": "stdout",
     "output_type": "stream",
     "text": [
      "frozenset({3, 4, 5})\n"
     ]
    }
   ],
   "source": [
    "# intersection()\n",
    "# Returns a frozenset, that is the intersection of two other frozenset.\n",
    "# The intersection() method returns a frozenset that contains the similarity between two or more sets.\n",
    "# syntax:- set.intersection(frozenset1, frozenset2 ... etc)\n",
    "# frozenset1\tRequired. The set to search for equal items in\n",
    "# frozenset2 Optional.The other frozenset to search for equal items in,You can compare as many sets you like.eparate the frozenset with a comma\n",
    "\n",
    "y1 = frozenset([1,2,3,4,5])\n",
    "y2 = frozenset([3,4,5,6,7])\n",
    " \n",
    "y = y1.intersection(y2)\n",
    "print(y)\n",
    "\n"
   ]
  },
  {
   "cell_type": "code",
   "execution_count": 23,
   "metadata": {},
   "outputs": [
    {
     "name": "stdout",
     "output_type": "stream",
     "text": [
      "False\n",
      "True\n"
     ]
    }
   ],
   "source": [
    "# isdisjoint()\n",
    "# Returns whether two frozenset have a intersection or not\n",
    "# The isdisjoint() method returns True if none of the items are present in both frozenset, otherwise it returns False.\n",
    "# syntax :- frozenset.isdisjoint(frozenset)\n",
    "# frozenset\tRequired. The frozenset to search for equal items in\n",
    "\n",
    "u1 = frozenset([1,2,3])\n",
    "u2 = frozenset([4,2,1])\n",
    "u3 = frozenset([7,8,9])\n",
    "u = u1.isdisjoint(u2)\n",
    "print(u)\n",
    "\n",
    "u0 = u3.isdisjoint(u1)\n",
    "print(u0)"
   ]
  },
  {
   "cell_type": "code",
   "execution_count": 7,
   "metadata": {},
   "outputs": [
    {
     "name": "stdout",
     "output_type": "stream",
     "text": [
      "False\n",
      "True\n"
     ]
    }
   ],
   "source": [
    "# issuperset() \n",
    "# The issuperset() returns True if all items in the specified frozenset exists in the original frozenset,otherwise it returns False.\n",
    "# syntax:- frozenset.issuperset(frozenset)\n",
    "i1 = frozenset([\"a\", \"b\", \"c\"])\n",
    "i2 = frozenset([\"f\", \"e\", \"d\", \"c\", \"b\", \"a\"])\n",
    "i = i1.issuperset(i2)               # Return False if not all items in frpzenset i2 are present in frozenset i1:\n",
    "print(i)\n",
    "\n",
    "\n",
    "o1 = frozenset([\"e\", \"b\", \"c\"])\n",
    "o2= frozenset([\"f\", \"e\", \"d\", \"c\", \"b\"])\n",
    "o = o2.issuperset(o1)               # Return True if all items set v2 are present in set v1\n",
    "print(o)\n",
    "\n"
   ]
  },
  {
   "cell_type": "code",
   "execution_count": 8,
   "metadata": {},
   "outputs": [
    {
     "name": "stdout",
     "output_type": "stream",
     "text": [
      "True\n",
      "False\n"
     ]
    }
   ],
   "source": [
    "# issubset() \n",
    "# The issubset() method returns True if all items in the frozenset exists in the specified frozenset, otherwise it returns False.\n",
    "# syntax:- frozenset.issubset(frozenset)\n",
    "\n",
    "p1 =frozenset([\"a\", \"b\", \"c\"])\n",
    "p2 =frozenset ([\"f\", \"e\", \"d\", \"c\", \"b\", \"a\"])\n",
    "p = p1.issubset(p2)                             # Return True if all items in frozenset x are present in frozenset y:\n",
    "print(p)\n",
    "\n",
    "a1 = {\"a\", \"b\", \"c\"}\n",
    "a2= {\"f\", \"e\", \"d\", \"c\", \"b\"}\n",
    "a = a1.issubset(a2)\n",
    "print(a)\n",
    "\n"
   ]
  },
  {
   "cell_type": "code",
   "execution_count": 9,
   "metadata": {},
   "outputs": [
    {
     "name": "stdout",
     "output_type": "stream",
     "text": [
      "frozenset({5, 6, 7, 8, 9})\n",
      "frozenset({3, 4, 5, 6, 7, 8, 9})\n"
     ]
    }
   ],
   "source": [
    "\n",
    "# union()\n",
    "# The union() method returns a frozenset that contains all items from the original frozenset, and all items from the specified frozenset(s). \n",
    "# syntax:- frozenset.union(frozenset1, frozenset2...)\n",
    "# The union of two frozenset or more frozenset of all distinct elements present in all the frozenset \n",
    "\n",
    "s1 = frozenset([9,8,7])\n",
    "s2 = frozenset([7,6,5])\n",
    "s3 = frozenset([5,4,3])\n",
    "s4 = s1.union(s2)\n",
    "s5 = s1.union(s3,s2)\n",
    "print(s4)\n",
    "print(s5)"
   ]
  },
  {
   "cell_type": "code",
   "execution_count": null,
   "metadata": {},
   "outputs": [],
   "source": []
  }
 ],
 "metadata": {
  "kernelspec": {
   "display_name": "Python 3",
   "language": "python",
   "name": "python3"
  },
  "language_info": {
   "codemirror_mode": {
    "name": "ipython",
    "version": 3
   },
   "file_extension": ".py",
   "mimetype": "text/x-python",
   "name": "python",
   "nbconvert_exporter": "python",
   "pygments_lexer": "ipython3",
   "version": "3.9.7"
  },
  "orig_nbformat": 4
 },
 "nbformat": 4,
 "nbformat_minor": 2
}
