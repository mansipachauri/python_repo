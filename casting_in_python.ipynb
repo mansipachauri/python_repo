{
 "cells": [
  {
   "cell_type": "code",
   "execution_count": 1,
   "metadata": {},
   "outputs": [],
   "source": [
    "# Casting\n",
    "# The conversion of one data type into the other data type is knows as a type casting or type conversion in pyhon\n",
    "# Python support a wide variety of functions or method like: int(), float(), str(, ord(), hex(), oct(), tuple(), \n",
    "#set() , dict(), list(), etc.... for the type casting in python.\n",
    "\n",
    "# There are two type of casting.\n",
    "# Explicit type conversion\n",
    "# Implicit type conversion\n",
    "\n",
    "\n",
    "# Explicit type conversion:- The convertion of one data to another data type, done via developer or programmer's or\n",
    "#manually as per the requirement is knows as Explicit type conversion.\n",
    "# It can be achieved with help  of python's built-in type conc=version function such as a int(), float(), str() , etc....\n",
    "\n",
    "\n",
    "# Implicit type conversion:- Data types in Python do not have the same level ie. ordering of data types is not the same in\n",
    "#Python. Some of the data types have higher-order, and some have lower order. While performing any operations on variables\n",
    "#with different data types in Python, one of the variable's data types will be changed to the higher data type. According\n",
    "# #to the level, one data type is converted into other by the Python interpreter itself (automatically). This is called,\n",
    "#mplicit typecasting in python.\n",
    "# Python converts a smaller data type to a higher data type to prevent data loss\n"
   ]
  },
  {
   "cell_type": "code",
   "execution_count": 21,
   "metadata": {},
   "outputs": [
    {
     "name": "stdout",
     "output_type": "stream",
     "text": [
      "10\n",
      "<class 'int'>\n",
      "10.0\n",
      "<class 'float'>\n",
      "10.0\n"
     ]
    }
   ],
   "source": [
    "# int() - constructs an integer number from an integer literal, a float literal (by removing all decimals), or a \n",
    "#string literal (providing the string represents a whole number)\n",
    "\n",
    "q = 10\n",
    "print(q)\n",
    "print(type(q))\n",
    "\n",
    "# int() to float\n",
    "w = float(q)\n",
    "print(float(w))\n",
    "print(type(w))\n",
    "\n",
    "print(float(10))\n",
    "\n"
   ]
  },
  {
   "cell_type": "code",
   "execution_count": 32,
   "metadata": {},
   "outputs": [
    {
     "name": "stdout",
     "output_type": "stream",
     "text": [
      "2.8 <class 'float'>\n",
      "2\n",
      "2 <class 'int'>\n",
      "2\n"
     ]
    }
   ],
   "source": [
    "# float() to int()\n",
    "\n",
    "e = 2.8\n",
    "print(e,type(e))\n",
    "\n",
    "print(int(e))\n",
    "\n",
    "e1  = int(e)\n",
    "print(e1,type(e1))\n",
    "\n",
    "print(int(2.8))"
   ]
  },
  {
   "cell_type": "code",
   "execution_count": 30,
   "metadata": {},
   "outputs": [
    {
     "name": "stdout",
     "output_type": "stream",
     "text": [
      "16 <class 'str'>\n",
      "16 <class 'int'>\n",
      "16\n"
     ]
    }
   ],
   "source": [
    "# string() to int()\n",
    "\n",
    "r =  \"16\"\n",
    "print(r,type(r))\n",
    "\n",
    "r1 = int(r)\n",
    "print(r1,type(r1))\n",
    "\n",
    "\n",
    "print((int(\"16\")))"
   ]
  },
  {
   "cell_type": "code",
   "execution_count": 5,
   "metadata": {},
   "outputs": [
    {
     "name": "stdout",
     "output_type": "stream",
     "text": [
      "16.01 <class 'float'>\n",
      "16.01 <class 'str'>\n",
      "16.01\n"
     ]
    }
   ],
   "source": [
    "# float to string \n",
    "\n",
    "t =  16.01\n",
    "print(t,type(t))\n",
    "\n",
    "t1 = str(t)\n",
    "print(t1,type(t1))\n",
    "\n",
    "\n",
    "print((str(\"16.01\")))\n"
   ]
  },
  {
   "cell_type": "code",
   "execution_count": 6,
   "metadata": {},
   "outputs": [
    {
     "name": "stdout",
     "output_type": "stream",
     "text": [
      "16.01 <class 'str'>\n",
      "16.01 <class 'float'>\n",
      "16.01\n"
     ]
    }
   ],
   "source": [
    "# string to float \n",
    "\n",
    "\n",
    "y =  \"16.01\"\n",
    "print(y,type(y))\n",
    "\n",
    "y1 = float(y)\n",
    "print(y1,type(y1))\n",
    "\n",
    "\n",
    "print((float(\"16.01\")))\n"
   ]
  },
  {
   "cell_type": "code",
   "execution_count": 16,
   "metadata": {},
   "outputs": [
    {
     "name": "stdout",
     "output_type": "stream",
     "text": [
      "[1, 2, 3, 4, 5] <class 'list'>\n",
      "(1, 2, 3, 4, 5) <class 'tuple'>\n",
      "{1, 2, 3, 4, 5} <class 'set'>\n",
      "frozenset({1, 2, 3, 4, 5}) <class 'frozenset'>\n"
     ]
    }
   ],
   "source": [
    "# Advance data type casting :-\n",
    "u = [1,2,3,4,5]\n",
    "print(u,type(u))\n",
    "\n",
    "\n",
    "u1=tuple(u)                                              # list[] change in tuple()\n",
    "print(u1,type(u1))\n",
    "\n",
    "\n",
    "\n",
    "u2 = set(u)                                              # list[] change in set()\n",
    "print(u2,type(u2))\n",
    "\n",
    "\n",
    "\n",
    "u3 = frozenset(u)                                       # list[] change in frozenset() \n",
    "print(u3,type(u3))\n",
    "\n",
    "\n"
   ]
  },
  {
   "cell_type": "code",
   "execution_count": 1,
   "metadata": {},
   "outputs": [
    {
     "name": "stdout",
     "output_type": "stream",
     "text": [
      "10.90 <class 'str'>\n",
      "10 <class 'int'>\n"
     ]
    }
   ],
   "source": [
    "# string()---->float()----->int()\n",
    "\n",
    "\n",
    "i = \"10.90\"\n",
    "print(i,type(i))\n",
    "\n",
    "# print(int(i))                  #  \"i\" value is not change directly in int(), firstly you change in float() finction , then you change in int().\n",
    "i1 = float(i)                    \n",
    "i2 = int(i1)\n",
    "print(i2,type(i2))\n",
    "\n",
    "\n",
    "\n"
   ]
  },
  {
   "cell_type": "code",
   "execution_count": 3,
   "metadata": {},
   "outputs": [
    {
     "name": "stdout",
     "output_type": "stream",
     "text": [
      "{'Tiger': 4, 'Cat': 6, 'Dog': 8, 'Elephant': 10} <class 'dict'>\n"
     ]
    }
   ],
   "source": [
    "# Tuple to Dictionaries:-\n",
    "\n",
    "my_tuples = (('Tiger', 4), ('Cat', 6), ('Dog', 8), ('Elephant', 10))\n",
    "my_dict = dict(my_tuples)\n",
    "print(my_dict,type(my_dict))"
   ]
  },
  {
   "cell_type": "code",
   "execution_count": 1,
   "metadata": {},
   "outputs": [
    {
     "name": "stdout",
     "output_type": "stream",
     "text": [
      "10\n",
      "The type of a is  <class 'int'>\n",
      "4.5\n",
      "The type of b is  <class 'float'>\n",
      "4.0\n",
      "The type of c is  <class 'float'>\n",
      "5.0\n",
      "The type of d is  <class 'float'>\n",
      "The product of a and b is  45.0\n",
      "The addition of c and d is  9.0\n"
     ]
    }
   ],
   "source": [
    "# Implicit Type Conversion\n",
    "\n",
    "# program to demonstrate implicit type conversion  \n",
    "\n",
    "#initializing the value of a  \n",
    "a = 10  \n",
    "print(a)  \n",
    "print(\"The type of a is \", type(a))  \n",
    "#initializing the value of b  \n",
    "b = 4.5  \n",
    "print(b)  \n",
    "print(\"The type of b is \", type(b))  \n",
    "#initializing the value of c  \n",
    "c = 4.0  \n",
    "print(c)  \n",
    "print(\"The type of c is \", type(c))  \n",
    "#initializing the value of d  \n",
    "d = 5.0  \n",
    "print(d)  \n",
    "print(\"The type of d is \", type(d))  \n",
    "\n",
    "#performing arithmetic operations  \n",
    "\n",
    "res = a * b  \n",
    "print(\"The product of a and b is \", res)  \n",
    "add = c + d  \n",
    "print(\"The addition of c and d is \", add)  "
   ]
  },
  {
   "cell_type": "code",
   "execution_count": null,
   "metadata": {},
   "outputs": [],
   "source": []
  }
 ],
 "metadata": {
  "kernelspec": {
   "display_name": "Python 3",
   "language": "python",
   "name": "python3"
  },
  "language_info": {
   "codemirror_mode": {
    "name": "ipython",
    "version": 3
   },
   "file_extension": ".py",
   "mimetype": "text/x-python",
   "name": "python",
   "nbconvert_exporter": "python",
   "pygments_lexer": "ipython3",
   "version": "3.9.7"
  },
  "orig_nbformat": 4
 },
 "nbformat": 4,
 "nbformat_minor": 2
}
