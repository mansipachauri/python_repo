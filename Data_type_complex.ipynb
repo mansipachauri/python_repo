{
 "cells": [
  {
   "cell_type": "code",
   "execution_count": 9,
   "metadata": {},
   "outputs": [],
   "source": [
    "# complex()\n",
    "# complex constructor is complex()\n",
    "# complex literal is \"0j\" .\n",
    "# Complex numbers are written with a \"j\" as the imaginary part:\n",
    "# Complex numbers which are mostly used where we are using two real numbers. For instance, an electric circuit which is defined by voltage(V) \n",
    "#and current(C) are used in geometry, scientific calculations and calculus.\n",
    "# syntax :- complex([real[, imag]])"
   ]
  },
  {
   "cell_type": "code",
   "execution_count": 10,
   "metadata": {},
   "outputs": [
    {
     "name": "stdout",
     "output_type": "stream",
     "text": [
      "0j\n"
     ]
    }
   ],
   "source": [
    "# complex literal is \"0j\"\n",
    "w = complex()\n",
    "print(w)\n"
   ]
  },
  {
   "cell_type": "code",
   "execution_count": 19,
   "metadata": {},
   "outputs": [
    {
     "name": "stdout",
     "output_type": "stream",
     "text": [
      "(2+3j)\n",
      "The type of 'q is'=  <class 'complex'>\n",
      "The address of 'q' is = 1786521040784\n",
      "(2+0j)\n",
      "The type of 'e is'=  <class 'complex'>\n",
      "The address of 'e' is = 1786521053648\n",
      "(8+9j)\n",
      "The type of 't' is =  <class 'complex'>\n",
      "The address of 't' is = 1786538498960\n"
     ]
    }
   ],
   "source": [
    "# Creating a simple complex number in python\n",
    "# python complex numbers are of type complex. Each complex number consist of one real part and one imaginary part.\n",
    "\n",
    "q = (2+3j)\n",
    "print(q)\n",
    "print(\"The type of 'q is'= \",type(q))\n",
    "print(\"The address of 'q' is =\" ,id(q))\n",
    "\n",
    "e = complex(2)\n",
    "print(e)\n",
    "print(\"The type of 'e is'= \",type(e))\n",
    "print(\"The address of 'e' is =\" ,id(e))\n",
    "\n",
    "t = complex(8,9)\n",
    "print(t)\n",
    "print(\"The type of 't' is = \",type(t))\n",
    "print(\"The address of 't' is =\" ,id(t))\n",
    "\n"
   ]
  },
  {
   "cell_type": "code",
   "execution_count": 27,
   "metadata": {},
   "outputs": [
    {
     "name": "stdout",
     "output_type": "stream",
     "text": [
      "(3+6j)\n",
      "The type of 'r' is =  <class 'complex'>\n",
      "The address of 'r' is = 1786540244336\n",
      "complex no. : Real part is =  3.0\n",
      "complex no. : Imaginary part is =  6.0\n",
      "complex no. : conjugate part is =  (3-6j)\n"
     ]
    }
   ],
   "source": [
    "# Python Complex Numbers- Attributes and Functions\n",
    "\n",
    "\n",
    "r = (3 + 6j)                                                # Complex Number:\n",
    "print(r)\n",
    "print(\"The type of 'r' is = \",type(r))\n",
    "print(\"The address of 'r' is =\" ,id(r))\n",
    "\n",
    "\n",
    "r1 = r.real                                                  # Real Part of complex number\n",
    "print(\"complex no. : Real part is = \",r1)\n",
    "\n",
    "r2 = r.imag\n",
    "print(\"complex no. : Imaginary part is = \",r2)               # #Imaginary Part of complex number\n",
    "                          \n",
    "\n",
    "r3= r.conjugate()\n",
    "print(\"complex no. : conjugate part is = \",r3)           # Conjugate of complex number, In conjugate no. ,the imaginary part multiply by (-1). so, the sign of imaginary pary are change .\n",
    "\n"
   ]
  },
  {
   "cell_type": "code",
   "execution_count": 31,
   "metadata": {},
   "outputs": [
    {
     "name": "stdout",
     "output_type": "stream",
     "text": [
      "Addition of two complex number = (9+21j)\n",
      "Subtraction of two complex numbers = (-3-9j)\n",
      "multiplication of two complex number = (-72+81j)\n",
      "division of two complex number  (0.4137931034482759-0.03448275862068964j)\n"
     ]
    }
   ],
   "source": [
    "# Mathematical Calculations on Complex numbers:\n",
    "\n",
    "c1 = 3 + 6j                           \n",
    "c2 = 6 + 15j                           \n",
    "\n",
    "\n",
    "#Addition\n",
    "print(\"Addition of two complex number =\", c1 + c2)\n",
    "\n",
    "# subtraction\n",
    "print(\"Subtraction of two complex numbers =\",c1-c2)\n",
    "\n",
    "# multiplication \n",
    "print(\"multiplication of two complex number =\", c1*c2)\n",
    "\n",
    "# Division \n",
    "print(\"division of two complex number \",c1/c2)\n",
    "\n",
    "\n"
   ]
  },
  {
   "cell_type": "code",
   "execution_count": 33,
   "metadata": {},
   "outputs": [
    {
     "data": {
      "text/plain": [
       "(32+9j)"
      ]
     },
     "execution_count": 33,
     "metadata": {},
     "output_type": "execute_result"
    }
   ],
   "source": [
    "(2+3j)*(7-6j)    "
   ]
  },
  {
   "cell_type": "code",
   "execution_count": null,
   "metadata": {},
   "outputs": [],
   "source": []
  }
 ],
 "metadata": {
  "kernelspec": {
   "display_name": "Python 3",
   "language": "python",
   "name": "python3"
  },
  "language_info": {
   "codemirror_mode": {
    "name": "ipython",
    "version": 3
   },
   "file_extension": ".py",
   "mimetype": "text/x-python",
   "name": "python",
   "nbconvert_exporter": "python",
   "pygments_lexer": "ipython3",
   "version": "3.9.7"
  },
  "orig_nbformat": 4
 },
 "nbformat": 4,
 "nbformat_minor": 2
}
