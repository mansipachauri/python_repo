{
 "cells": [
  {
   "cell_type": "code",
   "execution_count": 1,
   "metadata": {},
   "outputs": [],
   "source": [
    "# float\n",
    "# float constructor is float()\n",
    "# float literal is 0 \n",
    "# 1,2,3,4,5,6,7,8,9,0,.\n",
    "# 2e5 = 2 ki power 5, 'e' means power"
   ]
  },
  {
   "cell_type": "code",
   "execution_count": 2,
   "metadata": {},
   "outputs": [],
   "source": [
    "a=10.09"
   ]
  },
  {
   "cell_type": "code",
   "execution_count": 4,
   "metadata": {},
   "outputs": [
    {
     "name": "stdout",
     "output_type": "stream",
     "text": [
      "10.09\n",
      "<class 'float'>\n"
     ]
    }
   ],
   "source": [
    "print(a)\n",
    "print(type(a))"
   ]
  },
  {
   "cell_type": "code",
   "execution_count": 10,
   "metadata": {},
   "outputs": [
    {
     "name": "stdout",
     "output_type": "stream",
     "text": [
      "20.1\n",
      "<class 'float'>\n",
      "2025573044528\n",
      "20.1\n",
      "<class 'float'>\n",
      "2025573045104\n"
     ]
    }
   ],
   "source": [
    "b=20.1              # id of float must be same if it is not same then there must be some changes in the python interpreter \n",
    "print(b)            #implementation like cpython , rodpython , ipython , jpython ,etc.....\n",
    "print(type(b))\n",
    "print(id(b))\n",
    "c=20.1\n",
    "print(c)\n",
    "print(type(c))\n",
    "print(id(c))"
   ]
  },
  {
   "cell_type": "code",
   "execution_count": 13,
   "metadata": {},
   "outputs": [
    {
     "data": {
      "text/plain": [
       "65"
      ]
     },
     "execution_count": 13,
     "metadata": {},
     "output_type": "execute_result"
    }
   ],
   "source": [
    "# Python ord() function takes string argument of a single Unicode character and return\n",
    "#its integer Unicode code point value.\n",
    "\n",
    "ord(\"a\")\n",
    "\n"
   ]
  },
  {
   "cell_type": "code",
   "execution_count": 4,
   "metadata": {},
   "outputs": [
    {
     "name": "stdout",
     "output_type": "stream",
     "text": [
      "0b1001100\n",
      "0b100010\n"
     ]
    }
   ],
   "source": [
    "print(bin(76))\n",
    "print(bin(34))"
   ]
  },
  {
   "cell_type": "code",
   "execution_count": 6,
   "metadata": {},
   "outputs": [
    {
     "name": "stdout",
     "output_type": "stream",
     "text": [
      "92\n",
      "51\n"
     ]
    }
   ],
   "source": [
    "print(ord(\"\\\\\"))\n",
    "print(ord(\"3\"))"
   ]
  },
  {
   "cell_type": "code",
   "execution_count": 1,
   "metadata": {},
   "outputs": [
    {
     "name": "stdout",
     "output_type": "stream",
     "text": [
      "♞\n"
     ]
    }
   ],
   "source": [
    "# unicode character :-\n",
    "# Unicode (https://www.unicode.org/) is a specification that aims to list every character used by\n",
    "#human languages and give each character its own unique code.\n",
    "print(\"\\u265E\")\n",
    "\n"
   ]
  },
  {
   "cell_type": "code",
   "execution_count": null,
   "metadata": {},
   "outputs": [],
   "source": []
  }
 ],
 "metadata": {
  "kernelspec": {
   "display_name": "Python 3",
   "language": "python",
   "name": "python3"
  },
  "language_info": {
   "codemirror_mode": {
    "name": "ipython",
    "version": 3
   },
   "file_extension": ".py",
   "mimetype": "text/x-python",
   "name": "python",
   "nbconvert_exporter": "python",
   "pygments_lexer": "ipython3",
   "version": "3.9.7"
  },
  "orig_nbformat": 4
 },
 "nbformat": 4,
 "nbformat_minor": 2
}
