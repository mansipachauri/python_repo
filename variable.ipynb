{
 "cells": [
  {
   "cell_type": "code",
   "execution_count": 13,
   "metadata": {},
   "outputs": [
    {
     "name": "stdout",
     "output_type": "stream",
     "text": [
      "My\n",
      "name\n",
      "is \n",
      "MANSI\n",
      "PACHAURI\n"
     ]
    }
   ],
   "source": [
    "# Variable :-\n",
    "\n",
    "# A variable can have a short name (like x and y) or a more descriptive name (age, carname, total_volume).\n",
    "# A variable name must start with a letter or the underscore character\n",
    "# A variable name cannot start with a number\n",
    "# A variable name can only contain alpha-numeric characters and underscores (A-z, 0-9, and _ )\n",
    "# Variable names are case-sensitive (age, Age and AGE are three different variables)\n",
    "# A variable name cannot be any of the Python keywords.\n",
    "\n",
    "myvar = \"My\"\n",
    "my_var = \"name\"\n",
    "_my_var = \"is \"\n",
    "myVar = \"MANSI\"\n",
    "MYVAR = \"PACHAURI\"\n",
    "print(myvar)\n",
    "print(my_var)\n",
    "print(_my_var)\n",
    "print(myVar)\n",
    "print(MYVAR)"
   ]
  },
  {
   "cell_type": "code",
   "execution_count": 8,
   "metadata": {},
   "outputs": [],
   "source": [
    "import sys  # It lets us access system-specific parameters and functions. import sys. First, we have to import the sys module in our program before running any functions.\n"
   ]
  },
  {
   "cell_type": "code",
   "execution_count": 9,
   "metadata": {},
   "outputs": [
    {
     "name": "stdout",
     "output_type": "stream",
     "text": [
      "THIS IS MANSI \n"
     ]
    },
    {
     "data": {
      "text/plain": [
       "63"
      ]
     },
     "execution_count": 9,
     "metadata": {},
     "output_type": "execute_result"
    }
   ],
   "source": [
    "Y = \"THIS IS MANSI \"\n",
    "print(Y)\n",
    "sys.getsizeof(Y)    # 'getsizeof()' calls the object's __sizeof__ method and adds an additional garbage collector overhead\n",
    "                    #  if the object is managed by the garbage collector."
   ]
  },
  {
   "cell_type": "code",
   "execution_count": 10,
   "metadata": {},
   "outputs": [
    {
     "name": "stdout",
     "output_type": "stream",
     "text": [
      "('My', 'name', 'is', 'MANSI', 'PACHAURI')\n"
     ]
    },
    {
     "data": {
      "text/plain": [
       "80"
      ]
     },
     "execution_count": 10,
     "metadata": {},
     "output_type": "execute_result"
    }
   ],
   "source": [
    "X = (\"My\",\"name\",\"is\",\"MANSI\",\"PACHAURI\")\n",
    "print(X)\n",
    "sys.getsizeof(X)"
   ]
  },
  {
   "cell_type": "code",
   "execution_count": 3,
   "metadata": {},
   "outputs": [
    {
     "name": "stdout",
     "output_type": "stream",
     "text": [
      "myVariableName\n"
     ]
    }
   ],
   "source": [
    "myVariableName = \"John\"                     # Camel Case :- Each word, except the first, starts with a capital letter:\n",
    "print(\"myVariableName\")"
   ]
  },
  {
   "cell_type": "code",
   "execution_count": 5,
   "metadata": {},
   "outputs": [
    {
     "name": "stdout",
     "output_type": "stream",
     "text": [
      "MyVariableName\n"
     ]
    }
   ],
   "source": [
    "MyVariableName = \"John\"                      #  Pascal Case :- Each word starts with a capital letter:\n",
    "print(\"MyVariableName\")"
   ]
  },
  {
   "cell_type": "code",
   "execution_count": 7,
   "metadata": {},
   "outputs": [
    {
     "name": "stdout",
     "output_type": "stream",
     "text": [
      "my_variable_name\n"
     ]
    }
   ],
   "source": [
    "my_variable_name = \"John\"                   #  Snake Case :- Each word is separated by an underscore character:     \n",
    "print(\"my_variable_name\")\n"
   ]
  },
  {
   "cell_type": "code",
   "execution_count": null,
   "metadata": {},
   "outputs": [],
   "source": []
  }
 ],
 "metadata": {
  "kernelspec": {
   "display_name": "Python 3",
   "language": "python",
   "name": "python3"
  },
  "language_info": {
   "codemirror_mode": {
    "name": "ipython",
    "version": 3
   },
   "file_extension": ".py",
   "mimetype": "text/x-python",
   "name": "python",
   "nbconvert_exporter": "python",
   "pygments_lexer": "ipython3",
   "version": "3.9.7"
  },
  "orig_nbformat": 4
 },
 "nbformat": 4,
 "nbformat_minor": 2
}
