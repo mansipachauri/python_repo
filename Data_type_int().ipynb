{
 "cells": [
  {
   "cell_type": "code",
   "execution_count": 2,
   "metadata": {},
   "outputs": [],
   "source": [
    "# Variables can store data of different types, and different types can do different things.\n",
    "#Python has the following data types built-in by default, in these categories:\n",
    "\n",
    "# Text Type:\t     str()\n",
    "# Numeric Types:\t int(), float(), complex()\n",
    "# Sequence Types:\t list(), tuple(), range()\n",
    "# Mapping Type: \t dict()\n",
    "# Set Types:\t     set(), frozenset()\n",
    "# Boolean Type:  \t bool()\n",
    "# Binary Types: \t bytes(), bytearray(), memoryview()\n",
    "# None Type:\t     NoneType()"
   ]
  },
  {
   "cell_type": "code",
   "execution_count": 3,
   "metadata": {},
   "outputs": [],
   "source": [
    "# integers\n",
    "# integers constructor is int()\n",
    "# integers literal is 0"
   ]
  },
  {
   "cell_type": "code",
   "execution_count": 4,
   "metadata": {},
   "outputs": [
    {
     "name": "stdout",
     "output_type": "stream",
     "text": [
      "0\n",
      "<class 'int'>\n"
     ]
    }
   ],
   "source": [
    "a=int()                 #int() is constructor \n",
    "print(a)\n",
    "print(type(a))          # everything is an object. So, when you use the type() function to print the type of the value stored in a variable to the \n",
    "                        #console, it returns the class type of the object. For instance, if the type is a string and you use the type() on it, \n",
    "                        #you'd get <class 'string'> as the result.16-Feb-2022"
   ]
  },
  {
   "cell_type": "code",
   "execution_count": 5,
   "metadata": {},
   "outputs": [
    {
     "name": "stdout",
     "output_type": "stream",
     "text": [
      "3\n",
      "5\n",
      "6\n"
     ]
    }
   ],
   "source": [
    "a=10                        #bit_length function returns the number of bits required to represent the number in binary format.\n",
    "a.bit_length()              #Although we can represent any number with as the maximum number of bits as we want by adding leading zeros, \n",
    "var1 = 5                    #it returns the number after excluding the leading zeros.\n",
    "print(var1.bit_length())  \n",
    "var2 = 16  \n",
    "print(var2.bit_length())\n",
    "var3 = 32  \n",
    "print(var3.bit_length()) \n"
   ]
  },
  {
   "cell_type": "code",
   "execution_count": 6,
   "metadata": {},
   "outputs": [
    {
     "data": {
      "text/plain": [
       "4"
      ]
     },
     "execution_count": 6,
     "metadata": {},
     "output_type": "execute_result"
    }
   ],
   "source": [
    "a.bit_length()"
   ]
  },
  {
   "cell_type": "code",
   "execution_count": 7,
   "metadata": {},
   "outputs": [
    {
     "ename": "AttributeError",
     "evalue": "'int' object has no attribute 'bit_count'",
     "output_type": "error",
     "traceback": [
      "\u001b[1;31m---------------------------------------------------------------------------\u001b[0m",
      "\u001b[1;31mAttributeError\u001b[0m                            Traceback (most recent call last)",
      "Cell \u001b[1;32mIn[7], line 1\u001b[0m\n\u001b[1;32m----> 1\u001b[0m a\u001b[39m.\u001b[39;49mbit_count()      \u001b[39m# The count() is a built-in function in Python. It will return you the count of a given element in a list or a string\u001b[39;00m\n",
      "\u001b[1;31mAttributeError\u001b[0m: 'int' object has no attribute 'bit_count'"
     ]
    }
   ],
   "source": [
    "a.bit_count()      # The count() is a built-in function in Python. It will return you the count of a given element in a list or a string\n"
   ]
  },
  {
   "cell_type": "code",
   "execution_count": null,
   "metadata": {},
   "outputs": [
    {
     "name": "stdout",
     "output_type": "stream",
     "text": [
      "10\n"
     ]
    }
   ],
   "source": [
    "a=10                        # The binary no. of 10 is 1010\n",
    "print(a)"
   ]
  },
  {
   "cell_type": "code",
   "execution_count": null,
   "metadata": {},
   "outputs": [],
   "source": [
    "import builtins              # builtins is already import in python "
   ]
  },
  {
   "cell_type": "code",
   "execution_count": null,
   "metadata": {},
   "outputs": [
    {
     "name": "stdout",
     "output_type": "stream",
     "text": [
      "MANSI PACHAURI \n",
      "mansi Pachauri\n"
     ]
    }
   ],
   "source": [
    "print(\"MANSI PACHAURI \")            # This Python module provides direct access to all ‘built-in’ identifiers of Python. For example,\n",
    "builtins.print(\"mansi Pachauri\")    #builtins.open is the full name for the built-in function open().        \n",
    "                                     "
   ]
  },
  {
   "cell_type": "code",
   "execution_count": null,
   "metadata": {},
   "outputs": [
    {
     "data": {
      "text/plain": [
       "'0b1010'"
      ]
     },
     "execution_count": 18,
     "metadata": {},
     "output_type": "execute_result"
    }
   ],
   "source": [
    "builtins.bin(a)       #bin() is an in-built function in Python that takes in integer x and returns the binary\n",
    "bin(a)                  #representation of x in a string format. If x is not an integer, then the _index()_ method needs \n",
    "                    # #to be implemented to obtain an integer as the return value instead of as a “TypeError” exception.prefixed with “0b”"
   ]
  },
  {
   "cell_type": "code",
   "execution_count": null,
   "metadata": {},
   "outputs": [
    {
     "data": {
      "text/plain": [
       "'0b1010'"
      ]
     },
     "execution_count": 19,
     "metadata": {},
     "output_type": "execute_result"
    }
   ],
   "source": [
    "a=10\n",
    "bin(a)"
   ]
  },
  {
   "cell_type": "code",
   "execution_count": null,
   "metadata": {},
   "outputs": [
    {
     "data": {
      "text/plain": [
       "'0xa'"
      ]
     },
     "execution_count": 20,
     "metadata": {},
     "output_type": "execute_result"
    }
   ],
   "source": [
    "builtins.hex(a)         # Python hex() function is used to convert an integer to a lowercase hexadecimal string \n",
    "                        #prefixed with “0x”. "
   ]
  },
  {
   "cell_type": "code",
   "execution_count": null,
   "metadata": {},
   "outputs": [
    {
     "data": {
      "text/plain": [
       "'0o12'"
      ]
     },
     "execution_count": 21,
     "metadata": {},
     "output_type": "execute_result"
    }
   ],
   "source": [
    "builtins.oct(a)            # The oct() function converts an integer into an octal string. Octal strings in Python are prefixed with '0o/ ."
   ]
  },
  {
   "cell_type": "code",
   "execution_count": null,
   "metadata": {},
   "outputs": [
    {
     "name": "stdout",
     "output_type": "stream",
     "text": [
      "20\n",
      "10\n"
     ]
    }
   ],
   "source": [
    "a=10\n",
    "b=20\n",
    "print(b)\n",
    "print(a)"
   ]
  },
  {
   "cell_type": "code",
   "execution_count": 8,
   "metadata": {},
   "outputs": [
    {
     "data": {
      "text/plain": [
       "4"
      ]
     },
     "execution_count": 8,
     "metadata": {},
     "output_type": "execute_result"
    }
   ],
   "source": [
    "a.bit_length()"
   ]
  },
  {
   "cell_type": "code",
   "execution_count": 10,
   "metadata": {},
   "outputs": [
    {
     "ename": "AttributeError",
     "evalue": "'int' object has no attribute 'bit_count'",
     "output_type": "error",
     "traceback": [
      "\u001b[1;31m---------------------------------------------------------------------------\u001b[0m",
      "\u001b[1;31mAttributeError\u001b[0m                            Traceback (most recent call last)",
      "Cell \u001b[1;32mIn[10], line 1\u001b[0m\n\u001b[1;32m----> 1\u001b[0m a\u001b[39m.\u001b[39;49mbit_count()\n",
      "\u001b[1;31mAttributeError\u001b[0m: 'int' object has no attribute 'bit_count'"
     ]
    }
   ],
   "source": [
    "# a.bit_count()"
   ]
  },
  {
   "cell_type": "code",
   "execution_count": null,
   "metadata": {},
   "outputs": [],
   "source": []
  }
 ],
 "metadata": {
  "kernelspec": {
   "display_name": "Python 3",
   "language": "python",
   "name": "python3"
  },
  "language_info": {
   "codemirror_mode": {
    "name": "ipython",
    "version": 3
   },
   "file_extension": ".py",
   "mimetype": "text/x-python",
   "name": "python",
   "nbconvert_exporter": "python",
   "pygments_lexer": "ipython3",
   "version": "3.9.7"
  },
  "orig_nbformat": 4
 },
 "nbformat": 4,
 "nbformat_minor": 2
}
