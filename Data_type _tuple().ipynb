{
 "cells": [
  {
   "cell_type": "code",
   "execution_count": 1,
   "metadata": {},
   "outputs": [],
   "source": [
    "# tuple():-\n",
    "\n",
    "# Tuples are used to store multiple items in a single variable.\n",
    "# Tuple is one of 4 built-in data types in Python used to store collections of data, the other 3 are List, Set, \n",
    "#and Dictionary, all with different qualities and usage.\n",
    "# A tuple is a collection which is ordered and unchangeable.\n",
    "# Tuple items are ordered, unchangeable, and allow duplicate values.\n",
    "# tuple is constructor is tuple()\n",
    "# tuple literal is ()\n",
    "# tuple is faster then list\n",
    "# tuple is immutable (hashable/unchangeable)\n",
    "# tuple support indexing\n",
    "# tuple support slicing\n",
    "# tuple support nesting\n",
    "# Tuple support concatination\n",
    "# Tuples are unchangeable, meaning that we cannot change, add or remove items after the tuple has been created.\n",
    "# When we say that tuples are ordered, it means that the items have a defined order, and that order will not change.\n",
    "# \n"
   ]
  },
  {
   "cell_type": "code",
   "execution_count": 16,
   "metadata": {},
   "outputs": [
    {
     "name": "stdout",
     "output_type": "stream",
     "text": [
      "()\n",
      "<class 'tuple'>\n",
      "2389763440704\n"
     ]
    }
   ],
   "source": [
    "# tuple is constructor is tuple()\n",
    "# typle literal is ()\n",
    "a = tuple()\n",
    "print(a)\n",
    "print(type(a))\n",
    "print(id(a))"
   ]
  },
  {
   "cell_type": "code",
   "execution_count": 17,
   "metadata": {},
   "outputs": [
    {
     "name": "stdout",
     "output_type": "stream",
     "text": [
      "()\n",
      "<class 'tuple'>\n",
      "2389763440704\n"
     ]
    }
   ],
   "source": [
    "b= ()\n",
    "print(b)          # both ids 'a' nd 'b'  are same because they have same variable and tuple is immutable , unchangeable \n",
    "print(type(b))\n",
    "print(id(b))"
   ]
  },
  {
   "cell_type": "code",
   "execution_count": 25,
   "metadata": {},
   "outputs": [
    {
     "name": "stdout",
     "output_type": "stream",
     "text": [
      "() <class 'tuple'>\n",
      "1 <class 'int'>\n",
      "(1,) <class 'tuple'>\n",
      "('Mansi',) <class 'tuple'>\n",
      "(1, 2, 3) <class 'tuple'>\n",
      "(1, 2, 3) <class 'tuple'>\n"
     ]
    }
   ],
   "source": [
    "# tuple is alwayas identify by (1,) in single variable case, if you don't metion (,)comma, so they not treat as a\n",
    "#'tuple()' , they treat as a 'int()'\n",
    "\n",
    "c = tuple()                  # tuple literal is ()\n",
    "print(a,type(a))\n",
    "\n",
    "d = (1)                      # if you don't metion (,)comma, so they not treat as a 'tuple()' , they treat as a 'int()'\n",
    "print(d,type(d))\n",
    "\n",
    "e = (1,)                     # tuple is alwayas identify by (1,) in single variable case\n",
    "print(e,type(e))\n",
    " \n",
    "f =(\"Mansi\",)                 # tuple is alwayas identify by (1,) in single variable case\n",
    "print(f,type(f))\n",
    "\n",
    "g = (1,2,3)                   \n",
    "print(g,type(g))\n",
    "\n",
    "h = 1,2,3                     # this use is called packing  \n",
    "print(h,type(h))\n",
    "\n"
   ]
  },
  {
   "cell_type": "code",
   "execution_count": 29,
   "metadata": {},
   "outputs": [
    {
     "name": "stdout",
     "output_type": "stream",
     "text": [
      "2\n",
      "1\n",
      "3\n"
     ]
    }
   ],
   "source": [
    "# tuple method\n",
    "# count()\n",
    "# Returns the number of times a specified value occurs in a tuple\n",
    "# The count() method returns the number of times a specified value appears in the tuple.\n",
    "# syntax :- tuple.count(value)\n",
    "# value\t =  Required. The item to search for\n",
    "\n",
    "txt_1 = (1,3,5,7,9,1,9,5,7,9,0)\n",
    "print(txt_1.count(1))\n",
    "print(txt_1.count(0))\n",
    "print(txt_1.count(9))\n",
    "\n"
   ]
  },
  {
   "cell_type": "code",
   "execution_count": 1,
   "metadata": {},
   "outputs": [
    {
     "name": "stdout",
     "output_type": "stream",
     "text": [
      "The index value of 4 is  3\n",
      "The index value of [5,6,7] is  5\n"
     ]
    }
   ],
   "source": [
    "# index()\n",
    "# Searches the tuple for a specified value and returns the position of where it was found\n",
    "# The index() method finds the first occurrence of the specified value.\n",
    "# The index() method raises an exception if the value is not found. \n",
    "# syntax:- tuple.index(value)\n",
    "# value =  Required. The item to search for\n",
    "\n",
    "txt_2 = (0,2,3,4,9,[5,6,7],(8,9))\n",
    "print(\"The index value of 4 is \",txt_2.index(4))\n",
    "\n",
    "print(\"The index value of [5,6,7] is \",txt_2.index([5,6,7]))\n"
   ]
  },
  {
   "cell_type": "code",
   "execution_count": 20,
   "metadata": {},
   "outputs": [
    {
     "name": "stdout",
     "output_type": "stream",
     "text": [
      "(1, 2, 3, 4)\n",
      "2333214152192\n",
      "2333210744480\n",
      "2333214180912\n"
     ]
    }
   ],
   "source": [
    "# Tuple support concatination\n",
    "#   i ,j ,k have diffrent ids in concatination\n",
    "\n",
    "\n",
    "i = (1,2,3)\n",
    "j = 4,\n",
    "k= i+j\n",
    "print(k)\n",
    "print(id(i))\n",
    "print(id(j))\n",
    "print(id(k))"
   ]
  },
  {
   "cell_type": "code",
   "execution_count": 9,
   "metadata": {},
   "outputs": [
    {
     "name": "stdout",
     "output_type": "stream",
     "text": [
      "(1, 2, 3, 4, 5)\n",
      "(2, 3, 4)\n",
      "(1, 3)\n",
      "(2, 3, 4, 5)\n",
      "(1, 2, 3, 4, 5)\n"
     ]
    }
   ],
   "source": [
    "# slicing\n",
    "l = (1,2,3,4,5)\n",
    "print(l)\n",
    "print(l[1:4:1])\n",
    "print(l[0:4:2])\n",
    "print(l[1:6:1])\n",
    "print(l[::])"
   ]
  },
  {
   "cell_type": "code",
   "execution_count": 19,
   "metadata": {},
   "outputs": [
    {
     "name": "stdout",
     "output_type": "stream",
     "text": [
      "(1, 2, (4, 5, 6), (2, 9))\n",
      "4\n",
      "(2, 9)\n",
      "(4, 5, 6)\n",
      "9\n"
     ]
    }
   ],
   "source": [
    "# tuple indexing\n",
    "\n",
    "m = (1,2,(4,5,6),(2,9))\n",
    "print(m)\n",
    "print(m[2][0])\n",
    "print(m[3])\n",
    "print(m[2])\n",
    "print(m[3][1])\n"
   ]
  },
  {
   "cell_type": "code",
   "execution_count": null,
   "metadata": {},
   "outputs": [],
   "source": []
  }
 ],
 "metadata": {
  "kernelspec": {
   "display_name": "Python 3",
   "language": "python",
   "name": "python3"
  },
  "language_info": {
   "codemirror_mode": {
    "name": "ipython",
    "version": 3
   },
   "file_extension": ".py",
   "mimetype": "text/x-python",
   "name": "python",
   "nbconvert_exporter": "python",
   "pygments_lexer": "ipython3",
   "version": "3.9.7"
  },
  "orig_nbformat": 4
 },
 "nbformat": 4,
 "nbformat_minor": 2
}
